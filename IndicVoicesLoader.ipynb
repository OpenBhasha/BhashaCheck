{
 "cells": [
  {
   "cell_type": "code",
   "execution_count": 68,
   "id": "b920d7ab",
   "metadata": {},
   "outputs": [
    {
     "name": "stderr",
     "output_type": "stream",
     "text": [
      "/Users/imradhe/Library/Python/3.9/lib/python/site-packages/huggingface_hub/file_download.py:982: UserWarning: `local_dir_use_symlinks` parameter is deprecated and will be ignored. The process to download files to a local folder has been updated and do not rely on symlinks anymore. You only need to pass a destination folder as`local_dir`.\n",
      "For more details, check out https://huggingface.co/docs/huggingface_hub/main/en/guides/download#download-files-to-local-folder.\n",
      "  warnings.warn(\n",
      "Fetching 47 files: 100%|██████████| 47/47 [00:33<00:00,  1.40it/s]"
     ]
    },
    {
     "name": "stdout",
     "output_type": "stream",
     "text": [
      "Downloaded files into ./data\n"
     ]
    },
    {
     "name": "stderr",
     "output_type": "stream",
     "text": [
      "\n"
     ]
    }
   ],
   "source": [
    "import os\n",
    "from huggingface_hub import snapshot_download\n",
    "\n",
    "def download_parquets(\n",
    "    repo_id: str = \"ai4bharat/IndicVoices\",\n",
    "    repo_type: str = \"dataset\",\n",
    "    subfolder: str = \"telugu\",\n",
    "    target_dir: str = \"./IndicVoices_telugu_parquets\",\n",
    "    allow_pattern: str = f\"telugu/*.parquet\",\n",
    "    revision: str = \"main\"\n",
    "):\n",
    "    os.makedirs(target_dir, exist_ok=True)\n",
    "    # snapshot_download will respect allow_patterns to filter files\n",
    "    snapshot_download(\n",
    "        repo_id=repo_id,\n",
    "        repo_type=repo_type,\n",
    "        revision=revision,\n",
    "        local_dir=target_dir,\n",
    "        local_dir_use_symlinks=False,\n",
    "        allow_patterns=[allow_pattern]\n",
    "    )\n",
    "    print(f\"Downloaded files into {target_dir}\")\n",
    "\n",
    "if __name__ == \"__main__\":\n",
    "    download_parquets(target_dir=\"./data\", subfolder=\"telugu\")"
   ]
  },
  {
   "cell_type": "code",
   "execution_count": 100,
   "id": "bb292bca",
   "metadata": {
    "vscode": {
     "languageId": "ruby"
    }
   },
   "outputs": [
    {
     "name": "stderr",
     "output_type": "stream",
     "text": [
      "Processing rows: 100%|██████████| 2629/2629 [00:00<00:00, 8455.33it/s]\n"
     ]
    }
   ],
   "source": [
    "from tqdm import tqdm\n",
    "\n",
    "# Define the columns to group by\n",
    "group_columns = ['speaker_id', 'scenario', 'task_name', 'gender',\n",
    "                 'age_group', 'job_type', 'qualification', 'area', \n",
    "                 'district', 'state', 'occupation']\n",
    "\n",
    "# Initialize the ID column\n",
    "df['id'] = 0\n",
    "\n",
    "# Initialize the first ID\n",
    "current_id = 1\n",
    "\n",
    "# Iterate through the rows of the DataFrame with tqdm\n",
    "for i in tqdm(range(len(df)), desc=\"Processing rows\"):\n",
    "    if i == 0:\n",
    "        # Assign the first ID to the first row\n",
    "        df.at[i, 'id'] = current_id\n",
    "    else:\n",
    "        # Check if the current row matches the previous row in the group columns\n",
    "        if all(df.at[i, col] == df.at[i - 1, col] for col in group_columns):\n",
    "            # Assign the same ID as the previous row\n",
    "            df.at[i, 'id'] = current_id\n",
    "        else:\n",
    "            # Increment the ID and assign it to the current row\n",
    "            current_id += 1\n",
    "            df.at[i, 'id'] = current_id"
   ]
  },
  {
   "cell_type": "code",
   "execution_count": 167,
   "id": "ec99900d",
   "metadata": {
    "vscode": {
     "languageId": "ruby"
    }
   },
   "outputs": [
    {
     "data": {
      "text/html": [
       "<div>\n",
       "<style scoped>\n",
       "    .dataframe tbody tr th:only-of-type {\n",
       "        vertical-align: middle;\n",
       "    }\n",
       "\n",
       "    .dataframe tbody tr th {\n",
       "        vertical-align: top;\n",
       "    }\n",
       "\n",
       "    .dataframe thead th {\n",
       "        text-align: right;\n",
       "    }\n",
       "</style>\n",
       "<table border=\"1\" class=\"dataframe\">\n",
       "  <thead>\n",
       "    <tr style=\"text-align: right;\">\n",
       "      <th></th>\n",
       "      <th>audio_filepath</th>\n",
       "      <th>text</th>\n",
       "      <th>duration</th>\n",
       "      <th>lang</th>\n",
       "      <th>samples</th>\n",
       "      <th>verbatim</th>\n",
       "      <th>normalized</th>\n",
       "      <th>speaker_id</th>\n",
       "      <th>scenario</th>\n",
       "      <th>task_name</th>\n",
       "      <th>...</th>\n",
       "      <th>area</th>\n",
       "      <th>district</th>\n",
       "      <th>state</th>\n",
       "      <th>occupation</th>\n",
       "      <th>verification_report</th>\n",
       "      <th>unsanitized_verbatim</th>\n",
       "      <th>unsanitized_normalized</th>\n",
       "      <th>id</th>\n",
       "      <th>file</th>\n",
       "      <th>segment</th>\n",
       "    </tr>\n",
       "  </thead>\n",
       "  <tbody>\n",
       "    <tr>\n",
       "      <th>0</th>\n",
       "      <td>{'bytes': b'fLaC\\x00\\x00\\x00\"\\x10\\x00\\x10\\x00\\...</td>\n",
       "      <td>వల గట్టిగా లాగి చూసేసరికి ఆ వలలో పెద్ద చేప కనప...</td>\n",
       "      <td>9.184</td>\n",
       "      <td>te</td>\n",
       "      <td>146944</td>\n",
       "      <td>వల గట్టిగా లాగి చూసేసరికి ఆ వలలో పెద్ద చేప కనప...</td>\n",
       "      <td>వల గట్టిగా లాగి చూసేసరికి ఆ వలలో పెద్ద చేప కనప...</td>\n",
       "      <td>S4258915300327248</td>\n",
       "      <td>Extempore</td>\n",
       "      <td>KYP - Fishing</td>\n",
       "      <td>...</td>\n",
       "      <td>Urban</td>\n",
       "      <td>Guntur</td>\n",
       "      <td>Andhra Pradesh</td>\n",
       "      <td>Business</td>\n",
       "      <td>{'decision': 'excellent', 'low_volume': False,...</td>\n",
       "      <td>వల గట్టిగా లాగి చూసేసరికి ఆ వలలో పెద్ద చేప కనప...</td>\n",
       "      <td>వల గట్టిగా లాగి చూసేసరికి ఆ వలలో పెద్ద చేప కనప...</td>\n",
       "      <td>1</td>\n",
       "      <td>1</td>\n",
       "      <td>1</td>\n",
       "    </tr>\n",
       "    <tr>\n",
       "      <th>1</th>\n",
       "      <td>{'bytes': b'fLaC\\x00\\x00\\x00\"\\x10\\x00\\x10\\x00\\...</td>\n",
       "      <td>తీసుకొచ్చిన తర్వాత మాకు తెలియడం జరిగింది</td>\n",
       "      <td>2.646</td>\n",
       "      <td>te</td>\n",
       "      <td>42336</td>\n",
       "      <td>తీసుకొచ్చిన తర్వాత మాకు తెలియడం జరిగింది</td>\n",
       "      <td>తీసుకొచ్చిన తర్వాత మాకు తెలియడం జరిగింది</td>\n",
       "      <td>S4258915300327248</td>\n",
       "      <td>Extempore</td>\n",
       "      <td>KYP - Fishing</td>\n",
       "      <td>...</td>\n",
       "      <td>Urban</td>\n",
       "      <td>Guntur</td>\n",
       "      <td>Andhra Pradesh</td>\n",
       "      <td>Business</td>\n",
       "      <td>{'decision': 'excellent', 'low_volume': False,...</td>\n",
       "      <td>తీసుకొచ్చిన తర్వాత మాకు [noise] తెలియడం జరిగింది</td>\n",
       "      <td>తీసుకొచ్చిన తర్వాత మాకు [noise] తెలియడం జరిగింది</td>\n",
       "      <td>2</td>\n",
       "      <td>1</td>\n",
       "      <td>2</td>\n",
       "    </tr>\n",
       "    <tr>\n",
       "      <th>2</th>\n",
       "      <td>{'bytes': b'fLaC\\x00\\x00\\x00\"\\x10\\x00\\x10\\x00\\...</td>\n",
       "      <td>సిస్కో సిస్టం</td>\n",
       "      <td>2.248</td>\n",
       "      <td>te</td>\n",
       "      <td>35968</td>\n",
       "      <td>సిస్కో సిస్టెమ్</td>\n",
       "      <td>సిస్కో సిస్టం</td>\n",
       "      <td>S4259469500399772</td>\n",
       "      <td>Read</td>\n",
       "      <td>Alexa Commands</td>\n",
       "      <td>...</td>\n",
       "      <td>Rural</td>\n",
       "      <td>Kakinada</td>\n",
       "      <td>Andhra Pradesh</td>\n",
       "      <td>Student</td>\n",
       "      <td>{'decision': 'excellent', 'low_volume': False,...</td>\n",
       "      <td>సిస్కో సిస్టెమ్</td>\n",
       "      <td>సిస్కో [cisco] సిస్టం [system]</td>\n",
       "      <td>3</td>\n",
       "      <td>2</td>\n",
       "      <td>1</td>\n",
       "    </tr>\n",
       "    <tr>\n",
       "      <th>3</th>\n",
       "      <td>{'bytes': b'fLaC\\x00\\x00\\x00\"\\x10\\x00\\x10\\x00\\...</td>\n",
       "      <td>హలో</td>\n",
       "      <td>0.448</td>\n",
       "      <td>te</td>\n",
       "      <td>7168</td>\n",
       "      <td>హలో</td>\n",
       "      <td>హలో</td>\n",
       "      <td>S4257365000302537</td>\n",
       "      <td>Conversation</td>\n",
       "      <td>Conversation</td>\n",
       "      <td>...</td>\n",
       "      <td>Urban</td>\n",
       "      <td>Sangareddy</td>\n",
       "      <td>Telangana</td>\n",
       "      <td>Student</td>\n",
       "      <td>{'sst': False, 'comments': '', 'decision': 'ex...</td>\n",
       "      <td>హలో</td>\n",
       "      <td>హలో [hello]</td>\n",
       "      <td>4</td>\n",
       "      <td>3</td>\n",
       "      <td>1</td>\n",
       "    </tr>\n",
       "    <tr>\n",
       "      <th>4</th>\n",
       "      <td>{'bytes': b'fLaC\\x00\\x00\\x00\"\\x10\\x00\\x10\\x00\\...</td>\n",
       "      <td>హలో నా పేరు శరణ్ నేను మీ కంపెనీలో వేకెన్సీస్ ఉ...</td>\n",
       "      <td>6.017</td>\n",
       "      <td>te</td>\n",
       "      <td>96272</td>\n",
       "      <td>హలో నా పేరు శరణ్ నేను మీ కంపెనీలో వేకెన్సీస్ ఉ...</td>\n",
       "      <td>హలో నా పేరు శరణ్ నేను మీ కంపెనీలో వేకెన్సీస్ ఉ...</td>\n",
       "      <td>S4257365000302537</td>\n",
       "      <td>Conversation</td>\n",
       "      <td>Conversation</td>\n",
       "      <td>...</td>\n",
       "      <td>Urban</td>\n",
       "      <td>Sangareddy</td>\n",
       "      <td>Telangana</td>\n",
       "      <td>Student</td>\n",
       "      <td>{'sst': False, 'comments': '', 'decision': 'ex...</td>\n",
       "      <td>హలో నా పేరు శరణ్ నేను మీ కంపెనీలో వేకెన్సీస్ ఉ...</td>\n",
       "      <td>హలో [hello] నా పేరు శరణ్ నేను మీ కంపెనీలో వేకె...</td>\n",
       "      <td>5</td>\n",
       "      <td>3</td>\n",
       "      <td>2</td>\n",
       "    </tr>\n",
       "  </tbody>\n",
       "</table>\n",
       "<p>5 rows × 24 columns</p>\n",
       "</div>"
      ],
      "text/plain": [
       "                                      audio_filepath  \\\n",
       "0  {'bytes': b'fLaC\\x00\\x00\\x00\"\\x10\\x00\\x10\\x00\\...   \n",
       "1  {'bytes': b'fLaC\\x00\\x00\\x00\"\\x10\\x00\\x10\\x00\\...   \n",
       "2  {'bytes': b'fLaC\\x00\\x00\\x00\"\\x10\\x00\\x10\\x00\\...   \n",
       "3  {'bytes': b'fLaC\\x00\\x00\\x00\"\\x10\\x00\\x10\\x00\\...   \n",
       "4  {'bytes': b'fLaC\\x00\\x00\\x00\"\\x10\\x00\\x10\\x00\\...   \n",
       "\n",
       "                                                text  duration lang  samples  \\\n",
       "0  వల గట్టిగా లాగి చూసేసరికి ఆ వలలో పెద్ద చేప కనప...     9.184   te   146944   \n",
       "1           తీసుకొచ్చిన తర్వాత మాకు తెలియడం జరిగింది     2.646   te    42336   \n",
       "2                                      సిస్కో సిస్టం     2.248   te    35968   \n",
       "3                                                హలో     0.448   te     7168   \n",
       "4  హలో నా పేరు శరణ్ నేను మీ కంపెనీలో వేకెన్సీస్ ఉ...     6.017   te    96272   \n",
       "\n",
       "                                            verbatim  \\\n",
       "0  వల గట్టిగా లాగి చూసేసరికి ఆ వలలో పెద్ద చేప కనప...   \n",
       "1           తీసుకొచ్చిన తర్వాత మాకు తెలియడం జరిగింది   \n",
       "2                                    సిస్కో సిస్టెమ్   \n",
       "3                                                హలో   \n",
       "4  హలో నా పేరు శరణ్ నేను మీ కంపెనీలో వేకెన్సీస్ ఉ...   \n",
       "\n",
       "                                          normalized         speaker_id  \\\n",
       "0  వల గట్టిగా లాగి చూసేసరికి ఆ వలలో పెద్ద చేప కనప...  S4258915300327248   \n",
       "1           తీసుకొచ్చిన తర్వాత మాకు తెలియడం జరిగింది  S4258915300327248   \n",
       "2                                      సిస్కో సిస్టం  S4259469500399772   \n",
       "3                                                హలో  S4257365000302537   \n",
       "4  హలో నా పేరు శరణ్ నేను మీ కంపెనీలో వేకెన్సీస్ ఉ...  S4257365000302537   \n",
       "\n",
       "       scenario       task_name  ...   area    district           state  \\\n",
       "0     Extempore   KYP - Fishing  ...  Urban      Guntur  Andhra Pradesh   \n",
       "1     Extempore   KYP - Fishing  ...  Urban      Guntur  Andhra Pradesh   \n",
       "2          Read  Alexa Commands  ...  Rural    Kakinada  Andhra Pradesh   \n",
       "3  Conversation    Conversation  ...  Urban  Sangareddy       Telangana   \n",
       "4  Conversation    Conversation  ...  Urban  Sangareddy       Telangana   \n",
       "\n",
       "  occupation                                verification_report  \\\n",
       "0   Business  {'decision': 'excellent', 'low_volume': False,...   \n",
       "1   Business  {'decision': 'excellent', 'low_volume': False,...   \n",
       "2    Student  {'decision': 'excellent', 'low_volume': False,...   \n",
       "3    Student  {'sst': False, 'comments': '', 'decision': 'ex...   \n",
       "4    Student  {'sst': False, 'comments': '', 'decision': 'ex...   \n",
       "\n",
       "                                unsanitized_verbatim  \\\n",
       "0  వల గట్టిగా లాగి చూసేసరికి ఆ వలలో పెద్ద చేప కనప...   \n",
       "1  తీసుకొచ్చిన తర్వాత మాకు [noise] తెలియడం జరిగింది    \n",
       "2                                    సిస్కో సిస్టెమ్   \n",
       "3                                                హలో   \n",
       "4  హలో నా పేరు శరణ్ నేను మీ కంపెనీలో వేకెన్సీస్ ఉ...   \n",
       "\n",
       "                              unsanitized_normalized id file segment  \n",
       "0  వల గట్టిగా లాగి చూసేసరికి ఆ వలలో పెద్ద చేప కనప...  1    1       1  \n",
       "1  తీసుకొచ్చిన తర్వాత మాకు [noise] తెలియడం జరిగింది   2    1       2  \n",
       "2                     సిస్కో [cisco] సిస్టం [system]  3    2       1  \n",
       "3                                       హలో [hello]   4    3       1  \n",
       "4  హలో [hello] నా పేరు శరణ్ నేను మీ కంపెనీలో వేకె...  5    3       2  \n",
       "\n",
       "[5 rows x 24 columns]"
      ]
     },
     "execution_count": 167,
     "metadata": {},
     "output_type": "execute_result"
    }
   ],
   "source": [
    "df.head()"
   ]
  },
  {
   "cell_type": "code",
   "execution_count": 110,
   "id": "da448553",
   "metadata": {
    "vscode": {
     "languageId": "ruby"
    }
   },
   "outputs": [
    {
     "name": "stdout",
     "output_type": "stream",
     "text": [
      "\n",
      "Processing: data/telugu/train-00003-of-00046.parquet\n",
      "Max ID in train-00003-of-00046.parquet: 972\n"
     ]
    }
   ],
   "source": [
    "import os\n",
    "import pandas as pd\n",
    "from tqdm import tqdm\n",
    "\n",
    "# Define the group-by columns\n",
    "group_columns = [\n",
    "    'speaker_id', 'scenario', 'task_name', 'gender',\n",
    "    'age_group', 'job_type', 'qualification', 'area', \n",
    "    'district', 'state', 'occupation'\n",
    "]\n",
    "\n",
    "# Replace with your target directory\n",
    "target_directory = \"data/telugu\"\n",
    "\n",
    "# Function to assign IDs based on group change\n",
    "def assign_ids(df, group_columns):\n",
    "    df = df.copy()\n",
    "    df['id'] = 0\n",
    "    current_id = 1\n",
    "\n",
    "    for i in range(len(df)):\n",
    "        if i == 0:\n",
    "            df.at[i, 'id'] = current_id\n",
    "        else:\n",
    "            if all(df.at[i, col] == df.at[i - 1, col] for col in group_columns):\n",
    "                df.at[i, 'id'] = current_id\n",
    "            else:\n",
    "                current_id += 1\n",
    "                df.at[i, 'id'] = current_id\n",
    "\n",
    "    return df\n",
    "\n",
    "# Walk through all files\n",
    "for root, _, files in os.walk(target_directory):\n",
    "    for file in files:\n",
    "        if file.endswith(\".parquet\"):\n",
    "            file_path = os.path.join(root, file)\n",
    "            print(f\"\\nProcessing: {file_path}\")\n",
    "\n",
    "            try:\n",
    "                df = pd.read_parquet(file_path)\n",
    "                df.sort_values(by=group_columns, inplace=True, ignore_index=True)\n",
    "\n",
    "                # Assign IDs\n",
    "                df = assign_ids(df, group_columns)\n",
    "\n",
    "                # Print the max ID\n",
    "                print(f\"Max ID in {file}: {df['id'].max()}\")\n",
    "            except Exception as e:\n",
    "                print(f\"Error processing {file}: {e}\")\n",
    "        break"
   ]
  },
  {
   "cell_type": "code",
   "execution_count": 122,
   "id": "6dbdbec1",
   "metadata": {
    "vscode": {
     "languageId": "ruby"
    }
   },
   "outputs": [
    {
     "name": "stderr",
     "output_type": "stream",
     "text": [
      "Assigning file/segment: 100%|██████████| 4777/4777 [00:00<00:00, 8265.39it/s]\n"
     ]
    },
    {
     "name": "stdout",
     "output_type": "stream",
     "text": [
      "✅ Saved output to: data/te/train-00000-of-00046.parquet\n"
     ]
    }
   ],
   "source": [
    "import pandas as pd\n",
    "from tqdm import tqdm\n",
    "\n",
    "# Input Parquet file path\n",
    "parquet_file = \"data/telugu/train-00000-of-00046.parquet\"  # change this to your actual file path\n",
    "\n",
    "# Output path\n",
    "output_file = \"data/te/train-00000-of-00046.parquet\"\n",
    "\n",
    "# Read the parquet file\n",
    "df = pd.read_parquet(parquet_file)\n",
    "\n",
    "# Define the columns to group by\n",
    "group_columns = ['speaker_id', 'scenario', 'task_name', 'gender',\n",
    "                 'age_group', 'job_type', 'qualification', 'area', \n",
    "                 'district', 'state', 'occupation']\n",
    "\n",
    "# Initialize new columns\n",
    "df['file'] = 0\n",
    "df['segment'] = 0\n",
    "\n",
    "# Start counters\n",
    "file_num = 1\n",
    "segment_num = 1\n",
    "\n",
    "# Process with tqdm\n",
    "for i in tqdm(range(len(df)), desc=\"Assigning file/segment\"):\n",
    "    df.at[i, 'file'] = file_num\n",
    "    df.at[i, 'segment'] = segment_num\n",
    "    \n",
    "    if i < len(df) - 1:\n",
    "        same_group = all(df.at[i, col] == df.at[i+1, col] for col in group_columns)\n",
    "        if same_group:\n",
    "            segment_num += 1\n",
    "        else:\n",
    "            file_num += 1\n",
    "            segment_num = 1\n",
    "\n",
    "# Save to new parquet\n",
    "df.to_parquet(output_file, index=False)\n",
    "print(f\"✅ Saved output to: {output_file}\")"
   ]
  },
  {
   "cell_type": "code",
   "execution_count": 131,
   "id": "077d9895",
   "metadata": {
    "vscode": {
     "languageId": "ruby"
    }
   },
   "outputs": [
    {
     "data": {
      "text/plain": [
       "1064"
      ]
     },
     "execution_count": 131,
     "metadata": {},
     "output_type": "execute_result"
    }
   ],
   "source": [
    "df = pd.read_parquet(output_file)\n",
    "\n",
    "# max file number\n",
    "df['file'].max()"
   ]
  },
  {
   "cell_type": "code",
   "execution_count": 160,
   "id": "aef820af",
   "metadata": {
    "vscode": {
     "languageId": "ruby"
    }
   },
   "outputs": [
    {
     "data": {
      "text/plain": [
       "['నాకు పూల్లో ఈత కొట్టడం అంటే ఇష్టము ఎందుకంటే ఆ పూల్లో నీరు ఒకే దగ్గర ఉంటుంది కానీ మనము',\n",
       " 'బీచ్ లేదా సరస్సులో ఈత కొట్టినప్పుడు నీటి ప్రవాహం అనేది ఒకవైపు ఉంటుంది మరియు మనల్ని ఆ ప్రవాహాం ఎటు వైపు ఉంటే ఆటువైపు',\n",
       " 'మనల్ని తీసుకు వెళ్ళిపోతుంది అందుకని అక్కడ ఈత కొట్టడం చాలా కష్టంగా ఉంటుంది కానీ మనం పూల్లో ఈత కొడితే',\n",
       " 'అక్కడ నీటు నీరు ఒకే ఒకే స్థిరమైన ప్రదేశంలో ఉంటాయి నీటిలో ఎలాంటి కదలిక ఉండదు కాబట్టి',\n",
       " 'పూల్లో ఈత కొట్టడం అనేది చాలా సులువుగా ఉంటుంది మరియు నేను ఈత కొట్టేందుకు',\n",
       " 'మా ఊరి దగ్గర ఉన్న బావిలోకి వెళ్తాను ఎందుకు అనగా బావిలో నీరు ఎప్పుడు స్వచ్ఛంగా ఉంటుంది',\n",
       " 'మరియు ఆ బావిలో నీరు ప్రవహించకుండా ఒక స్థిరమైన ప్రదేశంలో ఉంటుంది',\n",
       " 'అలాంటి బావులు మా ప్రదేశాలలో మా చుట్టు ప్రక్కల చాలా ఉన్నాయి అలాంటిది అలాంటివి రెండు మూడు',\n",
       " 'బావులు ఉన్నాయి అందులో ఒకటి చాలా పెద్దగా ఉంటుంది అందులో నేను ఎక్కువగా ఈత కొట్టడానికి ఇష్టపడతాను ఈత కొట్టడం వల్ల',\n",
       " 'శరీరానికి చాలా మంచిది మరియు ఆరోగ్యం చాలా ఆరోగ్యం ఆరోగ్యానికి చాలా మంచిది ఇలా ఈత డై ఇలా రోజూకి పొద్దున్న ఒక గంట సాయంత్రం ఒక గంట ఈత కొట్టడం వల్ల',\n",
       " 'మనకు మన శరీరం చాలా దృడంగా మారుతుంది మరియు ఇది మన రక్షణ కోసం',\n",
       " 'ఎప్పుడైనా వర్షం పడి వరదలు అలాంటి సమయాలలో మనల్ని మనం రక్షించుకోడానికి ఈ ఈత అనేది చాలా',\n",
       " 'ఉపయోగపడుతుంది మరియు ఈతని కూడ ఒక క్రీడలాగా ప్రోత్సాహిస్తారు మరియు అంతర్జాతీయ పోటీలు ఒలంపిక్స్ లాంటి పోటీలలో ఈతని చాలా ప్రత్యేకంగా',\n",
       " 'చూస్తారు ఈత నేర్చుకోవడం వల్ల మనము',\n",
       " 'క్రీడలలో పాల్గొనవచ్చు మరియు మనకు తెలిసిన కళలాగా దీన్నీ దీన్నీ మనల్ని మనల్ని మన పెద్దవాళ్ళు ప్రోత్సహిస్తే మనం ఇందులోనే',\n",
       " 'చాలా ఘనత సంపాదించవచ్చు ఈత కొట్టడం అనేది చాలా',\n",
       " 'కఠినమైన విద్య నేర్చుకోవడానికి చాలా శ్రమ మరియు ఓపిక కావాలి ఈత నేర్చుకోవడానికి నాకు',\n",
       " 'ఆరు నెలలు పట్టింది ఆరు నెలలు ఆరు నెలలలో నేను ఈతని నేర్చుకున్నాను',\n",
       " 'నాకు మా నాన్నగారు ఈత నేర్పించారు ఈత నేర్చుకునేటప్పుడు నాకు మొదలు పెట్టినప్పుడు',\n",
       " 'మొదట్లో నాకు చాలా భయం వేసేది నీరు అంటే చాలాసార్లు నీటిలో మునిగిపోయాను అయినా కానీ ఈత నేర్చుకోవాలి అనే ఒక ధృఢ సంకల్పంతో నేను ఈత నేర్చుకునే వరకు',\n",
       " 'ఆగలేదు ఇప్పుడు నేను సరస్సులో అయినా బీచ్లో అయినా పూల్లో అయినా ఎక్కడైనా నేను ఈత కొట్టగలను',\n",
       " 'కానీ బావిలో ఉన్న నీరు చాలా స్వచ్ఛమైనది మరియు మనకి ఎలాంటి ఆరోగ్య సమస్యలు రావు అలాంటి బావిలో ఈత కొట్టడం వల్ల',\n",
       " 'మరియు ఈత వల్ల మన శరీరం చాలా ధృఢంగా మారుతుంది మరియు మనకి ఎంతో శక్తిని ఇస్తుంది',\n",
       " 'మనం ఆరోగ్యంగా ఉండాలి అంటే రోజుకు కనీసం ఒక గంట అయినా ఈత కొట్టాలి ఈతని ఒక క్రీడలాగా ఒక ఆత్మ రక్షణ కవచంలాగా మరియు',\n",
       " 'ఒక కళలాగా ఒక క్రీడలాగా చాలా రకాలుగా ఈత మనకి ఉపయోగపడుతుంది',\n",
       " 'ఒకానొక సమయంలో మనము నదిలో కొట్టుకుపోయినా వరదల వల్ల మనము ఉండే ప్రదేశంలో నీటిమట్టం ఎక్కువైనా కానీ',\n",
       " 'మనం ఈత ఈత వల్ల బతికి బతకచ్చు అదే కాకుండా మనం మన ప్రాణలను కాకుండా ఇతర ప్రాణలను కూడ రక్షించవచ్చు',\n",
       " 'ఇవి ఈత వల్ల ఉన్న ఉపయోగాలు ఇవే కాకుండా ఈత వల్ల మనకి చాలా ఉపయోగాలు ఉన్నాయి',\n",
       " 'కొంతమంది ఈతని నేర్పి డబ్బు ఖర్చు చేసి మరీ ఈత నేర్చుకుంటున్నారు',\n",
       " 'మన జీవితంలో ఈత ఈత నేర్చుకోవడం అనేది చాలా ముఖ్యమైన',\n",
       " 'కా కావాల్సింది మనకి అందుకని ఈత నేర్చుకున్న నేను నాకు వచ్చిన కళని నేను ఇతరులకి నేర్పించడానికి ఇష్టపడతాను నా దగ్గరకు వచ్చి ఎవరైనా సరే ఈత నేర్పించు అని నన్ను అడిగితే నేను చాలామందికి ఇప్పటివరకు అలా ఈత నేర్పించాను',\n",
       " 'తనని మనం ఈ కళ నేర్చుకోవడం వల్ల మనల్ని మనమే కాకుండా ఇతరులని కూడ రక్షించవచ్చు']"
      ]
     },
     "execution_count": 160,
     "metadata": {},
     "output_type": "execute_result"
    }
   ],
   "source": [
    "# get all the segments of a given file\n",
    "\n",
    "file = 14\n",
    "df[df['file'] == file].drop(columns=['audio_filepath'])['text'].to_list()"
   ]
  },
  {
   "cell_type": "code",
   "execution_count": 163,
   "id": "a1f9b33f",
   "metadata": {
    "vscode": {
     "languageId": "ruby"
    }
   },
   "outputs": [
    {
     "name": "stderr",
     "output_type": "stream",
     "text": [
      "Processing files:   2%|▏         | 1/47 [00:01<01:07,  1.46s/it]"
     ]
    },
    {
     "name": "stdout",
     "output_type": "stream",
     "text": [
      "✅ Updated: data/telugu/train-00003-of-00046.parquet\n"
     ]
    },
    {
     "name": "stderr",
     "output_type": "stream",
     "text": [
      "Processing files:   4%|▍         | 2/47 [00:02<01:02,  1.38s/it]"
     ]
    },
    {
     "name": "stdout",
     "output_type": "stream",
     "text": [
      "✅ Updated: data/telugu/train-00022-of-00046.parquet\n"
     ]
    },
    {
     "name": "stderr",
     "output_type": "stream",
     "text": [
      "Processing files:   6%|▋         | 3/47 [00:04<01:13,  1.68s/it]"
     ]
    },
    {
     "name": "stdout",
     "output_type": "stream",
     "text": [
      "✅ Updated: data/telugu/train-00036-of-00046.parquet\n"
     ]
    },
    {
     "name": "stderr",
     "output_type": "stream",
     "text": [
      "Processing files:   9%|▊         | 4/47 [00:05<01:02,  1.46s/it]"
     ]
    },
    {
     "name": "stdout",
     "output_type": "stream",
     "text": [
      "✅ Updated: data/telugu/train-00008-of-00046.parquet\n"
     ]
    },
    {
     "name": "stderr",
     "output_type": "stream",
     "text": [
      "Processing files:  11%|█         | 5/47 [00:07<01:01,  1.47s/it]"
     ]
    },
    {
     "name": "stdout",
     "output_type": "stream",
     "text": [
      "✅ Updated: data/telugu/train-00029-of-00046.parquet\n"
     ]
    },
    {
     "name": "stderr",
     "output_type": "stream",
     "text": [
      "Processing files:  13%|█▎        | 6/47 [00:08<00:55,  1.35s/it]"
     ]
    },
    {
     "name": "stdout",
     "output_type": "stream",
     "text": [
      "✅ Updated: data/telugu/train-00017-of-00046.parquet\n"
     ]
    },
    {
     "name": "stderr",
     "output_type": "stream",
     "text": [
      "Processing files:  15%|█▍        | 7/47 [00:09<00:51,  1.30s/it]"
     ]
    },
    {
     "name": "stdout",
     "output_type": "stream",
     "text": [
      "✅ Updated: data/telugu/train-00013-of-00046.parquet\n"
     ]
    },
    {
     "name": "stderr",
     "output_type": "stream",
     "text": [
      "Processing files:  17%|█▋        | 8/47 [00:11<00:59,  1.52s/it]"
     ]
    },
    {
     "name": "stdout",
     "output_type": "stream",
     "text": [
      "✅ Updated: data/telugu/train-00032-of-00046.parquet\n"
     ]
    },
    {
     "name": "stderr",
     "output_type": "stream",
     "text": [
      "Processing files:  19%|█▉        | 9/47 [00:12<00:54,  1.43s/it]"
     ]
    },
    {
     "name": "stdout",
     "output_type": "stream",
     "text": [
      "✅ Updated: data/telugu/train-00018-of-00046.parquet\n"
     ]
    },
    {
     "name": "stderr",
     "output_type": "stream",
     "text": [
      "Processing files:  21%|██▏       | 10/47 [00:15<01:00,  1.64s/it]"
     ]
    },
    {
     "name": "stdout",
     "output_type": "stream",
     "text": [
      "✅ Updated: data/telugu/train-00026-of-00046.parquet\n"
     ]
    },
    {
     "name": "stderr",
     "output_type": "stream",
     "text": [
      "Processing files:  23%|██▎       | 11/47 [00:16<01:00,  1.68s/it]"
     ]
    },
    {
     "name": "stdout",
     "output_type": "stream",
     "text": [
      "✅ Updated: data/telugu/train-00043-of-00046.parquet\n"
     ]
    },
    {
     "name": "stderr",
     "output_type": "stream",
     "text": [
      "Processing files:  26%|██▌       | 12/47 [00:17<00:48,  1.40s/it]"
     ]
    },
    {
     "name": "stdout",
     "output_type": "stream",
     "text": [
      "✅ Updated: data/telugu/valid-00000-of-00001.parquet\n"
     ]
    },
    {
     "name": "stderr",
     "output_type": "stream",
     "text": [
      "Processing files:  28%|██▊       | 13/47 [00:18<00:44,  1.32s/it]"
     ]
    },
    {
     "name": "stdout",
     "output_type": "stream",
     "text": [
      "✅ Updated: data/telugu/train-00007-of-00046.parquet\n"
     ]
    },
    {
     "name": "stderr",
     "output_type": "stream",
     "text": [
      "Processing files:  30%|██▉       | 14/47 [00:20<00:50,  1.54s/it]"
     ]
    },
    {
     "name": "stdout",
     "output_type": "stream",
     "text": [
      "✅ Updated: data/telugu/train-00039-of-00046.parquet\n"
     ]
    },
    {
     "name": "stderr",
     "output_type": "stream",
     "text": [
      "Processing files:  32%|███▏      | 15/47 [00:22<00:48,  1.51s/it]"
     ]
    },
    {
     "name": "stdout",
     "output_type": "stream",
     "text": [
      "✅ Updated: data/telugu/train-00023-of-00046.parquet\n"
     ]
    },
    {
     "name": "stderr",
     "output_type": "stream",
     "text": [
      "Processing files:  34%|███▍      | 16/47 [00:23<00:42,  1.38s/it]"
     ]
    },
    {
     "name": "stdout",
     "output_type": "stream",
     "text": [
      "✅ Updated: data/telugu/train-00002-of-00046.parquet\n"
     ]
    },
    {
     "name": "stderr",
     "output_type": "stream",
     "text": [
      "Processing files:  36%|███▌      | 17/47 [00:25<00:44,  1.48s/it]"
     ]
    },
    {
     "name": "stdout",
     "output_type": "stream",
     "text": [
      "✅ Updated: data/telugu/train-00028-of-00046.parquet\n"
     ]
    },
    {
     "name": "stderr",
     "output_type": "stream",
     "text": [
      "Processing files:  38%|███▊      | 18/47 [00:26<00:42,  1.47s/it]"
     ]
    },
    {
     "name": "stdout",
     "output_type": "stream",
     "text": [
      "✅ Updated: data/telugu/train-00016-of-00046.parquet\n"
     ]
    },
    {
     "name": "stderr",
     "output_type": "stream",
     "text": [
      "Processing files:  40%|████      | 19/47 [00:28<00:44,  1.59s/it]"
     ]
    },
    {
     "name": "stdout",
     "output_type": "stream",
     "text": [
      "✅ Updated: data/telugu/train-00037-of-00046.parquet\n"
     ]
    },
    {
     "name": "stderr",
     "output_type": "stream",
     "text": [
      "Processing files:  43%|████▎     | 20/47 [00:29<00:39,  1.48s/it]"
     ]
    },
    {
     "name": "stdout",
     "output_type": "stream",
     "text": [
      "✅ Updated: data/telugu/train-00009-of-00046.parquet\n"
     ]
    },
    {
     "name": "stderr",
     "output_type": "stream",
     "text": [
      "Processing files:  45%|████▍     | 21/47 [00:31<00:42,  1.65s/it]"
     ]
    },
    {
     "name": "stdout",
     "output_type": "stream",
     "text": [
      "✅ Updated: data/telugu/train-00033-of-00046.parquet\n"
     ]
    },
    {
     "name": "stderr",
     "output_type": "stream",
     "text": [
      "Processing files:  47%|████▋     | 22/47 [00:32<00:37,  1.50s/it]"
     ]
    },
    {
     "name": "stdout",
     "output_type": "stream",
     "text": [
      "✅ Updated: data/telugu/train-00012-of-00046.parquet\n"
     ]
    },
    {
     "name": "stderr",
     "output_type": "stream",
     "text": [
      "Processing files:  49%|████▉     | 23/47 [00:34<00:35,  1.47s/it]"
     ]
    },
    {
     "name": "stdout",
     "output_type": "stream",
     "text": [
      "✅ Updated: data/telugu/train-00006-of-00046.parquet\n"
     ]
    },
    {
     "name": "stderr",
     "output_type": "stream",
     "text": [
      "Processing files:  51%|█████     | 24/47 [00:36<00:38,  1.69s/it]"
     ]
    },
    {
     "name": "stdout",
     "output_type": "stream",
     "text": [
      "✅ Updated: data/telugu/train-00038-of-00046.parquet\n"
     ]
    },
    {
     "name": "stderr",
     "output_type": "stream",
     "text": [
      "Processing files:  53%|█████▎    | 25/47 [00:38<00:41,  1.90s/it]"
     ]
    },
    {
     "name": "stdout",
     "output_type": "stream",
     "text": [
      "✅ Updated: data/telugu/train-00042-of-00046.parquet\n"
     ]
    },
    {
     "name": "stderr",
     "output_type": "stream",
     "text": [
      "Processing files:  55%|█████▌    | 26/47 [00:39<00:35,  1.67s/it]"
     ]
    },
    {
     "name": "stdout",
     "output_type": "stream",
     "text": [
      "✅ Updated: data/telugu/train-00019-of-00046.parquet\n"
     ]
    },
    {
     "name": "stderr",
     "output_type": "stream",
     "text": [
      "Processing files:  57%|█████▋    | 27/47 [00:41<00:32,  1.64s/it]"
     ]
    },
    {
     "name": "stdout",
     "output_type": "stream",
     "text": [
      "✅ Updated: data/telugu/train-00027-of-00046.parquet\n"
     ]
    },
    {
     "name": "stderr",
     "output_type": "stream",
     "text": [
      "Processing files:  60%|█████▉    | 28/47 [00:42<00:28,  1.50s/it]"
     ]
    },
    {
     "name": "stdout",
     "output_type": "stream",
     "text": [
      "✅ Updated: data/telugu/train-00015-of-00046.parquet\n"
     ]
    },
    {
     "name": "stderr",
     "output_type": "stream",
     "text": [
      "Processing files:  62%|██████▏   | 29/47 [00:44<00:28,  1.59s/it]"
     ]
    },
    {
     "name": "stdout",
     "output_type": "stream",
     "text": [
      "✅ Updated: data/telugu/train-00034-of-00046.parquet\n"
     ]
    },
    {
     "name": "stderr",
     "output_type": "stream",
     "text": [
      "Processing files:  64%|██████▍   | 30/47 [00:46<00:28,  1.70s/it]"
     ]
    },
    {
     "name": "stdout",
     "output_type": "stream",
     "text": [
      "✅ Updated: data/telugu/train-00045-of-00046.parquet\n"
     ]
    },
    {
     "name": "stderr",
     "output_type": "stream",
     "text": [
      "Processing files:  66%|██████▌   | 31/47 [00:47<00:26,  1.65s/it]"
     ]
    },
    {
     "name": "stdout",
     "output_type": "stream",
     "text": [
      "✅ Updated: data/telugu/train-00020-of-00046.parquet\n"
     ]
    },
    {
     "name": "stderr",
     "output_type": "stream",
     "text": [
      "Processing files:  68%|██████▊   | 32/47 [00:49<00:24,  1.63s/it]"
     ]
    },
    {
     "name": "stdout",
     "output_type": "stream",
     "text": [
      "✅ Updated: data/telugu/train-00001-of-00046.parquet\n"
     ]
    },
    {
     "name": "stderr",
     "output_type": "stream",
     "text": [
      "Processing files:  70%|███████   | 33/47 [00:51<00:22,  1.59s/it]"
     ]
    },
    {
     "name": "stdout",
     "output_type": "stream",
     "text": [
      "✅ Updated: data/telugu/train-00005-of-00046.parquet\n"
     ]
    },
    {
     "name": "stderr",
     "output_type": "stream",
     "text": [
      "Processing files:  72%|███████▏  | 34/47 [00:53<00:22,  1.73s/it]"
     ]
    },
    {
     "name": "stdout",
     "output_type": "stream",
     "text": [
      "✅ Updated: data/telugu/train-00041-of-00046.parquet\n"
     ]
    },
    {
     "name": "stderr",
     "output_type": "stream",
     "text": [
      "Processing files:  74%|███████▍  | 35/47 [00:54<00:21,  1.79s/it]"
     ]
    },
    {
     "name": "stdout",
     "output_type": "stream",
     "text": [
      "✅ Updated: data/telugu/train-00024-of-00046.parquet\n"
     ]
    },
    {
     "name": "stderr",
     "output_type": "stream",
     "text": [
      "Processing files:  77%|███████▋  | 36/47 [00:56<00:18,  1.68s/it]"
     ]
    },
    {
     "name": "stdout",
     "output_type": "stream",
     "text": [
      "✅ Updated: data/telugu/train-00030-of-00046.parquet\n"
     ]
    },
    {
     "name": "stderr",
     "output_type": "stream",
     "text": [
      "Processing files:  79%|███████▊  | 37/47 [00:57<00:14,  1.48s/it]"
     ]
    },
    {
     "name": "stdout",
     "output_type": "stream",
     "text": [
      "✅ Updated: data/telugu/train-00011-of-00046.parquet\n"
     ]
    },
    {
     "name": "stderr",
     "output_type": "stream",
     "text": [
      "Processing files:  81%|████████  | 38/47 [00:59<00:15,  1.77s/it]"
     ]
    },
    {
     "name": "stdout",
     "output_type": "stream",
     "text": [
      "✅ Updated: data/telugu/train-00035-of-00046.parquet\n"
     ]
    },
    {
     "name": "stderr",
     "output_type": "stream",
     "text": [
      "Processing files:  83%|████████▎ | 39/47 [01:00<00:12,  1.57s/it]"
     ]
    },
    {
     "name": "stdout",
     "output_type": "stream",
     "text": [
      "✅ Updated: data/telugu/train-00014-of-00046.parquet\n"
     ]
    },
    {
     "name": "stderr",
     "output_type": "stream",
     "text": [
      "Processing files:  85%|████████▌ | 40/47 [01:02<00:10,  1.43s/it]"
     ]
    },
    {
     "name": "stdout",
     "output_type": "stream",
     "text": [
      "✅ Updated: data/telugu/train-00000-of-00046.parquet\n"
     ]
    },
    {
     "name": "stderr",
     "output_type": "stream",
     "text": [
      "Processing files:  87%|████████▋ | 41/47 [01:03<00:08,  1.36s/it]"
     ]
    },
    {
     "name": "stdout",
     "output_type": "stream",
     "text": [
      "✅ Updated: data/telugu/train-00021-of-00046.parquet\n"
     ]
    },
    {
     "name": "stderr",
     "output_type": "stream",
     "text": [
      "Processing files:  89%|████████▉ | 42/47 [01:05<00:07,  1.47s/it]"
     ]
    },
    {
     "name": "stdout",
     "output_type": "stream",
     "text": [
      "✅ Updated: data/telugu/train-00044-of-00046.parquet\n"
     ]
    },
    {
     "name": "stderr",
     "output_type": "stream",
     "text": [
      "Processing files:  91%|█████████▏| 43/47 [01:07<00:06,  1.63s/it]"
     ]
    },
    {
     "name": "stdout",
     "output_type": "stream",
     "text": [
      "✅ Updated: data/telugu/train-00025-of-00046.parquet\n"
     ]
    },
    {
     "name": "stderr",
     "output_type": "stream",
     "text": [
      "Processing files:  94%|█████████▎| 44/47 [01:09<00:05,  1.74s/it]"
     ]
    },
    {
     "name": "stdout",
     "output_type": "stream",
     "text": [
      "✅ Updated: data/telugu/train-00040-of-00046.parquet\n"
     ]
    },
    {
     "name": "stderr",
     "output_type": "stream",
     "text": [
      "Processing files:  96%|█████████▌| 45/47 [01:10<00:03,  1.57s/it]"
     ]
    },
    {
     "name": "stdout",
     "output_type": "stream",
     "text": [
      "✅ Updated: data/telugu/train-00004-of-00046.parquet\n"
     ]
    },
    {
     "name": "stderr",
     "output_type": "stream",
     "text": [
      "Processing files:  98%|█████████▊| 46/47 [01:11<00:01,  1.42s/it]"
     ]
    },
    {
     "name": "stdout",
     "output_type": "stream",
     "text": [
      "✅ Updated: data/telugu/train-00010-of-00046.parquet\n"
     ]
    },
    {
     "name": "stderr",
     "output_type": "stream",
     "text": [
      "Processing files: 100%|██████████| 47/47 [01:12<00:00,  1.55s/it]"
     ]
    },
    {
     "name": "stdout",
     "output_type": "stream",
     "text": [
      "✅ Updated: data/telugu/train-00031-of-00046.parquet\n"
     ]
    },
    {
     "name": "stderr",
     "output_type": "stream",
     "text": [
      "\n"
     ]
    }
   ],
   "source": [
    "import os\n",
    "import pandas as pd\n",
    "from tqdm import tqdm\n",
    "\n",
    "# Directory containing the Parquet files\n",
    "input_dir = \"data/telugu\"\n",
    "\n",
    "# Columns to group by\n",
    "group_columns = ['speaker_id', 'scenario', 'task_name', 'gender',\n",
    "                 'age_group', 'job_type', 'qualification', 'area',\n",
    "                 'district', 'state', 'occupation']\n",
    "\n",
    "# List all .parquet files in the directory\n",
    "parquet_files = [f for f in os.listdir(input_dir) if f.endswith('.parquet')]\n",
    "\n",
    "for file in tqdm(parquet_files, desc=\"Processing files\"):\n",
    "    file_path = os.path.join(input_dir, file)\n",
    "    \n",
    "    # Load DataFrame\n",
    "    df = pd.read_parquet(file_path)\n",
    "    \n",
    "    # Initialize new columns\n",
    "    df['file'] = 0\n",
    "    df['segment'] = 0\n",
    "\n",
    "    # Counters\n",
    "    file_num = 1\n",
    "    segment_num = 1\n",
    "\n",
    "    # Assign file and segment numbers\n",
    "    for i in range(len(df)):\n",
    "        df.at[i, 'file'] = file_num\n",
    "        df.at[i, 'segment'] = segment_num\n",
    "\n",
    "        if i < len(df) - 1:\n",
    "            same_group = all(df.at[i, col] == df.at[i+1, col] for col in group_columns)\n",
    "            if same_group:\n",
    "                segment_num += 1\n",
    "            else:\n",
    "                file_num += 1\n",
    "                segment_num = 1\n",
    "\n",
    "    # Overwrite the same file\n",
    "    df.to_parquet(file_path, index=False)\n",
    "\n",
    "    print(f\"✅ Updated: {file_path}\")\n"
   ]
  },
  {
   "cell_type": "code",
   "execution_count": 164,
   "id": "5401d9c9",
   "metadata": {
    "vscode": {
     "languageId": "ruby"
    }
   },
   "outputs": [
    {
     "name": "stdout",
     "output_type": "stream",
     "text": [
      "\n",
      "Processing: data/telugu/train-00003-of-00046.parquet\n",
      "Max file number in train-00003-of-00046.parquet: 1050\n",
      "\n",
      "Processing: data/telugu/train-00022-of-00046.parquet\n",
      "Max file number in train-00022-of-00046.parquet: 929\n",
      "\n",
      "Processing: data/telugu/train-00036-of-00046.parquet\n",
      "Max file number in train-00036-of-00046.parquet: 603\n",
      "\n",
      "Processing: data/telugu/train-00008-of-00046.parquet\n",
      "Max file number in train-00008-of-00046.parquet: 1025\n",
      "\n",
      "Processing: data/telugu/train-00029-of-00046.parquet\n",
      "Max file number in train-00029-of-00046.parquet: 825\n",
      "\n",
      "Processing: data/telugu/train-00017-of-00046.parquet\n",
      "Max file number in train-00017-of-00046.parquet: 1076\n",
      "\n",
      "Processing: data/telugu/train-00013-of-00046.parquet\n",
      "Max file number in train-00013-of-00046.parquet: 1018\n",
      "\n",
      "Processing: data/telugu/train-00032-of-00046.parquet\n",
      "Max file number in train-00032-of-00046.parquet: 837\n",
      "\n",
      "Processing: data/telugu/train-00018-of-00046.parquet\n",
      "Max file number in train-00018-of-00046.parquet: 962\n",
      "\n",
      "Processing: data/telugu/train-00026-of-00046.parquet\n",
      "Max file number in train-00026-of-00046.parquet: 739\n",
      "\n",
      "Processing: data/telugu/train-00043-of-00046.parquet\n",
      "Max file number in train-00043-of-00046.parquet: 1022\n",
      "\n",
      "Processing: data/telugu/valid-00000-of-00001.parquet\n",
      "Max file number in valid-00000-of-00001.parquet: 290\n",
      "\n",
      "Processing: data/telugu/train-00007-of-00046.parquet\n",
      "Max file number in train-00007-of-00046.parquet: 1090\n",
      "\n",
      "Processing: data/telugu/train-00039-of-00046.parquet\n",
      "Max file number in train-00039-of-00046.parquet: 570\n",
      "\n",
      "Processing: data/telugu/train-00023-of-00046.parquet\n",
      "Max file number in train-00023-of-00046.parquet: 825\n",
      "\n",
      "Processing: data/telugu/train-00002-of-00046.parquet\n",
      "Max file number in train-00002-of-00046.parquet: 1001\n",
      "\n",
      "Processing: data/telugu/train-00028-of-00046.parquet\n",
      "Max file number in train-00028-of-00046.parquet: 741\n",
      "\n",
      "Processing: data/telugu/train-00016-of-00046.parquet\n",
      "Max file number in train-00016-of-00046.parquet: 1095\n",
      "\n",
      "Processing: data/telugu/train-00037-of-00046.parquet\n",
      "Max file number in train-00037-of-00046.parquet: 692\n",
      "\n",
      "Processing: data/telugu/train-00009-of-00046.parquet\n",
      "Max file number in train-00009-of-00046.parquet: 933\n",
      "\n",
      "Processing: data/telugu/train-00033-of-00046.parquet\n",
      "Max file number in train-00033-of-00046.parquet: 662\n",
      "\n",
      "Processing: data/telugu/train-00012-of-00046.parquet\n",
      "Max file number in train-00012-of-00046.parquet: 1039\n",
      "\n",
      "Processing: data/telugu/train-00006-of-00046.parquet\n",
      "Max file number in train-00006-of-00046.parquet: 1061\n",
      "\n",
      "Processing: data/telugu/train-00038-of-00046.parquet\n",
      "Max file number in train-00038-of-00046.parquet: 673\n",
      "\n",
      "Processing: data/telugu/train-00042-of-00046.parquet\n",
      "Max file number in train-00042-of-00046.parquet: 737\n",
      "\n",
      "Processing: data/telugu/train-00019-of-00046.parquet\n",
      "Max file number in train-00019-of-00046.parquet: 903\n",
      "\n",
      "Processing: data/telugu/train-00027-of-00046.parquet\n",
      "Max file number in train-00027-of-00046.parquet: 773\n",
      "\n",
      "Processing: data/telugu/train-00015-of-00046.parquet\n",
      "Max file number in train-00015-of-00046.parquet: 1015\n",
      "\n",
      "Processing: data/telugu/train-00034-of-00046.parquet\n",
      "Max file number in train-00034-of-00046.parquet: 540\n",
      "\n",
      "Processing: data/telugu/train-00045-of-00046.parquet\n",
      "Max file number in train-00045-of-00046.parquet: 1042\n",
      "\n",
      "Processing: data/telugu/train-00020-of-00046.parquet\n",
      "Max file number in train-00020-of-00046.parquet: 1015\n",
      "\n",
      "Processing: data/telugu/train-00001-of-00046.parquet\n",
      "Max file number in train-00001-of-00046.parquet: 1123\n",
      "\n",
      "Processing: data/telugu/train-00005-of-00046.parquet\n",
      "Max file number in train-00005-of-00046.parquet: 996\n",
      "\n",
      "Processing: data/telugu/train-00041-of-00046.parquet\n",
      "Max file number in train-00041-of-00046.parquet: 638\n",
      "\n",
      "Processing: data/telugu/train-00024-of-00046.parquet\n",
      "Max file number in train-00024-of-00046.parquet: 767\n",
      "\n",
      "Processing: data/telugu/train-00030-of-00046.parquet\n",
      "Max file number in train-00030-of-00046.parquet: 794\n",
      "\n",
      "Processing: data/telugu/train-00011-of-00046.parquet\n",
      "Max file number in train-00011-of-00046.parquet: 1052\n",
      "\n",
      "Processing: data/telugu/train-00035-of-00046.parquet\n",
      "Max file number in train-00035-of-00046.parquet: 633\n",
      "\n",
      "Processing: data/telugu/train-00014-of-00046.parquet\n",
      "Max file number in train-00014-of-00046.parquet: 915\n",
      "\n",
      "Processing: data/telugu/train-00000-of-00046.parquet\n",
      "Max file number in train-00000-of-00046.parquet: 1064\n",
      "\n",
      "Processing: data/telugu/train-00021-of-00046.parquet\n",
      "Max file number in train-00021-of-00046.parquet: 990\n",
      "\n",
      "Processing: data/telugu/train-00044-of-00046.parquet\n",
      "Max file number in train-00044-of-00046.parquet: 1065\n",
      "\n",
      "Processing: data/telugu/train-00025-of-00046.parquet\n",
      "Max file number in train-00025-of-00046.parquet: 795\n",
      "\n",
      "Processing: data/telugu/train-00040-of-00046.parquet\n",
      "Max file number in train-00040-of-00046.parquet: 633\n",
      "\n",
      "Processing: data/telugu/train-00004-of-00046.parquet\n",
      "Max file number in train-00004-of-00046.parquet: 933\n",
      "\n",
      "Processing: data/telugu/train-00010-of-00046.parquet\n",
      "Max file number in train-00010-of-00046.parquet: 1038\n",
      "\n",
      "Processing: data/telugu/train-00031-of-00046.parquet\n",
      "Max file number in train-00031-of-00046.parquet: 687\n"
     ]
    }
   ],
   "source": [
    "# print the max file number for all files\n",
    "for root, _, files in os.walk(input_dir):\n",
    "    for file in files:\n",
    "        if file.endswith(\".parquet\"):\n",
    "            file_path = os.path.join(root, file)\n",
    "            print(f\"\\nProcessing: {file_path}\")\n",
    "\n",
    "            try:\n",
    "                df = pd.read_parquet(file_path)\n",
    "                print(f\"Max file number in {file}: {df['file'].max()}\")\n",
    "            except Exception as e:\n",
    "                print(f\"Error processing {file}: {e}\")"
   ]
  },
  {
   "cell_type": "code",
   "execution_count": 169,
   "id": "12d46342",
   "metadata": {
    "vscode": {
     "languageId": "ruby"
    }
   },
   "outputs": [
    {
     "name": "stdout",
     "output_type": "stream",
     "text": [
      "Renamed: data/telugu/train-00000-of-00046.parquet -> data/telugu/1.parquet\n",
      "Renamed: data/telugu/train-00001-of-00046.parquet -> data/telugu/2.parquet\n",
      "Renamed: data/telugu/train-00002-of-00046.parquet -> data/telugu/3.parquet\n",
      "Renamed: data/telugu/train-00003-of-00046.parquet -> data/telugu/4.parquet\n",
      "Renamed: data/telugu/train-00004-of-00046.parquet -> data/telugu/5.parquet\n",
      "Renamed: data/telugu/train-00005-of-00046.parquet -> data/telugu/6.parquet\n",
      "Renamed: data/telugu/train-00006-of-00046.parquet -> data/telugu/7.parquet\n",
      "Renamed: data/telugu/train-00007-of-00046.parquet -> data/telugu/8.parquet\n",
      "Renamed: data/telugu/train-00008-of-00046.parquet -> data/telugu/9.parquet\n",
      "Renamed: data/telugu/train-00009-of-00046.parquet -> data/telugu/10.parquet\n",
      "Renamed: data/telugu/train-00010-of-00046.parquet -> data/telugu/11.parquet\n",
      "Renamed: data/telugu/train-00011-of-00046.parquet -> data/telugu/12.parquet\n",
      "Renamed: data/telugu/train-00012-of-00046.parquet -> data/telugu/13.parquet\n",
      "Renamed: data/telugu/train-00013-of-00046.parquet -> data/telugu/14.parquet\n",
      "Renamed: data/telugu/train-00014-of-00046.parquet -> data/telugu/15.parquet\n",
      "Renamed: data/telugu/train-00015-of-00046.parquet -> data/telugu/16.parquet\n",
      "Renamed: data/telugu/train-00016-of-00046.parquet -> data/telugu/17.parquet\n",
      "Renamed: data/telugu/train-00017-of-00046.parquet -> data/telugu/18.parquet\n",
      "Renamed: data/telugu/train-00018-of-00046.parquet -> data/telugu/19.parquet\n",
      "Renamed: data/telugu/train-00019-of-00046.parquet -> data/telugu/20.parquet\n",
      "Renamed: data/telugu/train-00020-of-00046.parquet -> data/telugu/21.parquet\n",
      "Renamed: data/telugu/train-00021-of-00046.parquet -> data/telugu/22.parquet\n",
      "Renamed: data/telugu/train-00022-of-00046.parquet -> data/telugu/23.parquet\n",
      "Renamed: data/telugu/train-00023-of-00046.parquet -> data/telugu/24.parquet\n",
      "Renamed: data/telugu/train-00024-of-00046.parquet -> data/telugu/25.parquet\n",
      "Renamed: data/telugu/train-00025-of-00046.parquet -> data/telugu/26.parquet\n",
      "Renamed: data/telugu/train-00026-of-00046.parquet -> data/telugu/27.parquet\n",
      "Renamed: data/telugu/train-00027-of-00046.parquet -> data/telugu/28.parquet\n",
      "Renamed: data/telugu/train-00028-of-00046.parquet -> data/telugu/29.parquet\n",
      "Renamed: data/telugu/train-00029-of-00046.parquet -> data/telugu/30.parquet\n",
      "Renamed: data/telugu/train-00030-of-00046.parquet -> data/telugu/31.parquet\n",
      "Renamed: data/telugu/train-00031-of-00046.parquet -> data/telugu/32.parquet\n",
      "Renamed: data/telugu/train-00032-of-00046.parquet -> data/telugu/33.parquet\n",
      "Renamed: data/telugu/train-00033-of-00046.parquet -> data/telugu/34.parquet\n",
      "Renamed: data/telugu/train-00034-of-00046.parquet -> data/telugu/35.parquet\n",
      "Renamed: data/telugu/train-00035-of-00046.parquet -> data/telugu/36.parquet\n",
      "Renamed: data/telugu/train-00036-of-00046.parquet -> data/telugu/37.parquet\n",
      "Renamed: data/telugu/train-00037-of-00046.parquet -> data/telugu/38.parquet\n",
      "Renamed: data/telugu/train-00038-of-00046.parquet -> data/telugu/39.parquet\n",
      "Renamed: data/telugu/train-00039-of-00046.parquet -> data/telugu/40.parquet\n",
      "Renamed: data/telugu/train-00040-of-00046.parquet -> data/telugu/41.parquet\n",
      "Renamed: data/telugu/train-00041-of-00046.parquet -> data/telugu/42.parquet\n",
      "Renamed: data/telugu/train-00042-of-00046.parquet -> data/telugu/43.parquet\n",
      "Renamed: data/telugu/train-00043-of-00046.parquet -> data/telugu/44.parquet\n",
      "Renamed: data/telugu/train-00044-of-00046.parquet -> data/telugu/45.parquet\n",
      "Renamed: data/telugu/train-00045-of-00046.parquet -> data/telugu/46.parquet\n",
      "Renamed: data/telugu/valid-00000-of-00001.parquet -> data/telugu/47.parquet\n"
     ]
    }
   ],
   "source": [
    "# Rename all parquet files in data/telugu from 1.parquet to n.parquet\n",
    "import os\n",
    "directory = \"data/telugu\"\n",
    "files = [f for f in os.listdir(directory) if f.endswith('.parquet')]\n",
    "for index, file in enumerate(sorted(files), start=1):\n",
    "    old_path = os.path.join(directory, file)\n",
    "    new_filename = f\"{index}.parquet\"\n",
    "    new_path = os.path.join(directory, new_filename)\n",
    "    os.rename(old_path, new_path)\n",
    "    print(f\"Renamed: {old_path} -> {new_path}\")"
   ]
  },
  {
   "cell_type": "code",
   "execution_count": 1,
   "id": "5668958d",
   "metadata": {
    "vscode": {
     "languageId": "ruby"
    }
   },
   "outputs": [
    {
     "name": "stdout",
     "output_type": "stream",
     "text": [
      "📄 Processing: data/telugu/8.parquet\n"
     ]
    },
    {
     "name": "stderr",
     "output_type": "stream",
     "text": [
      "Saving from 8: 100%|██████████| 4776/4776 [00:00<00:00, 8865.54it/s]\n"
     ]
    },
    {
     "name": "stdout",
     "output_type": "stream",
     "text": [
      "📄 Processing: data/telugu/34.parquet\n"
     ]
    },
    {
     "name": "stderr",
     "output_type": "stream",
     "text": [
      "Saving from 34: 100%|██████████| 4776/4776 [00:00<00:00, 8049.49it/s]\n"
     ]
    },
    {
     "name": "stdout",
     "output_type": "stream",
     "text": [
      "📄 Processing: data/telugu/24.parquet\n"
     ]
    },
    {
     "name": "stderr",
     "output_type": "stream",
     "text": [
      "Saving from 24: 100%|██████████| 4776/4776 [00:00<00:00, 8176.68it/s]\n"
     ]
    },
    {
     "name": "stdout",
     "output_type": "stream",
     "text": [
      "📄 Processing: data/telugu/46.parquet\n"
     ]
    },
    {
     "name": "stderr",
     "output_type": "stream",
     "text": [
      "Saving from 46: 100%|██████████| 4776/4776 [00:00<00:00, 8483.12it/s]\n"
     ]
    },
    {
     "name": "stdout",
     "output_type": "stream",
     "text": [
      "📄 Processing: data/telugu/1.parquet\n"
     ]
    },
    {
     "name": "stderr",
     "output_type": "stream",
     "text": [
      "Saving from 1: 100%|██████████| 4777/4777 [00:00<00:00, 7731.14it/s]\n"
     ]
    },
    {
     "name": "stdout",
     "output_type": "stream",
     "text": [
      "📄 Processing: data/telugu/12.parquet\n"
     ]
    },
    {
     "name": "stderr",
     "output_type": "stream",
     "text": [
      "Saving from 12: 100%|██████████| 4776/4776 [00:00<00:00, 8062.95it/s]\n"
     ]
    },
    {
     "name": "stdout",
     "output_type": "stream",
     "text": [
      "📄 Processing: data/telugu/13.parquet\n"
     ]
    },
    {
     "name": "stderr",
     "output_type": "stream",
     "text": [
      "Saving from 13: 100%|██████████| 4776/4776 [00:00<00:00, 5477.59it/s]\n"
     ]
    },
    {
     "name": "stdout",
     "output_type": "stream",
     "text": [
      "📄 Processing: data/telugu/9.parquet\n"
     ]
    },
    {
     "name": "stderr",
     "output_type": "stream",
     "text": [
      "Saving from 9: 100%|██████████| 4776/4776 [00:00<00:00, 8198.76it/s]\n"
     ]
    },
    {
     "name": "stdout",
     "output_type": "stream",
     "text": [
      "📄 Processing: data/telugu/25.parquet\n"
     ]
    },
    {
     "name": "stderr",
     "output_type": "stream",
     "text": [
      "Saving from 25: 100%|██████████| 4776/4776 [00:00<00:00, 8626.73it/s]\n"
     ]
    },
    {
     "name": "stdout",
     "output_type": "stream",
     "text": [
      "📄 Processing: data/telugu/35.parquet\n"
     ]
    },
    {
     "name": "stderr",
     "output_type": "stream",
     "text": [
      "Saving from 35: 100%|██████████| 4776/4776 [00:00<00:00, 6518.17it/s]\n"
     ]
    },
    {
     "name": "stdout",
     "output_type": "stream",
     "text": [
      "📄 Processing: data/telugu/47.parquet\n"
     ]
    },
    {
     "name": "stderr",
     "output_type": "stream",
     "text": [
      "Saving from 47: 100%|██████████| 2629/2629 [00:00<00:00, 7732.44it/s]\n"
     ]
    },
    {
     "name": "stdout",
     "output_type": "stream",
     "text": [
      "📄 Processing: data/telugu/11.parquet\n"
     ]
    },
    {
     "name": "stderr",
     "output_type": "stream",
     "text": [
      "Saving from 11: 100%|██████████| 4776/4776 [00:00<00:00, 8683.32it/s]\n"
     ]
    },
    {
     "name": "stdout",
     "output_type": "stream",
     "text": [
      "📄 Processing: data/telugu/2.parquet\n"
     ]
    },
    {
     "name": "stderr",
     "output_type": "stream",
     "text": [
      "Saving from 2: 100%|██████████| 4777/4777 [00:00<00:00, 7316.35it/s]\n"
     ]
    },
    {
     "name": "stdout",
     "output_type": "stream",
     "text": [
      "📄 Processing: data/telugu/18.parquet\n"
     ]
    },
    {
     "name": "stderr",
     "output_type": "stream",
     "text": [
      "Saving from 18: 100%|██████████| 4776/4776 [00:00<00:00, 6253.90it/s]\n"
     ]
    },
    {
     "name": "stdout",
     "output_type": "stream",
     "text": [
      "📄 Processing: data/telugu/45.parquet\n"
     ]
    },
    {
     "name": "stderr",
     "output_type": "stream",
     "text": [
      "Saving from 45: 100%|██████████| 4776/4776 [00:01<00:00, 4473.27it/s]\n"
     ]
    },
    {
     "name": "stdout",
     "output_type": "stream",
     "text": [
      "📄 Processing: data/telugu/37.parquet\n"
     ]
    },
    {
     "name": "stderr",
     "output_type": "stream",
     "text": [
      "Saving from 37: 100%|██████████| 4776/4776 [00:00<00:00, 6178.61it/s]\n"
     ]
    },
    {
     "name": "stdout",
     "output_type": "stream",
     "text": [
      "📄 Processing: data/telugu/27.parquet\n"
     ]
    },
    {
     "name": "stderr",
     "output_type": "stream",
     "text": [
      "Saving from 27: 100%|██████████| 4776/4776 [00:00<00:00, 6856.13it/s]\n"
     ]
    },
    {
     "name": "stdout",
     "output_type": "stream",
     "text": [
      "📄 Processing: data/telugu/19.parquet\n"
     ]
    },
    {
     "name": "stderr",
     "output_type": "stream",
     "text": [
      "Saving from 19: 100%|██████████| 4776/4776 [00:00<00:00, 7545.56it/s]\n"
     ]
    },
    {
     "name": "stdout",
     "output_type": "stream",
     "text": [
      "📄 Processing: data/telugu/44.parquet\n"
     ]
    },
    {
     "name": "stderr",
     "output_type": "stream",
     "text": [
      "Saving from 44: 100%|██████████| 4776/4776 [00:00<00:00, 6805.12it/s]\n"
     ]
    },
    {
     "name": "stdout",
     "output_type": "stream",
     "text": [
      "📄 Processing: data/telugu/26.parquet\n"
     ]
    },
    {
     "name": "stderr",
     "output_type": "stream",
     "text": [
      "Saving from 26: 100%|██████████| 4776/4776 [00:00<00:00, 6519.93it/s]\n"
     ]
    },
    {
     "name": "stdout",
     "output_type": "stream",
     "text": [
      "📄 Processing: data/telugu/36.parquet\n"
     ]
    },
    {
     "name": "stderr",
     "output_type": "stream",
     "text": [
      "Saving from 36: 100%|██████████| 4776/4776 [00:01<00:00, 4234.18it/s]\n"
     ]
    },
    {
     "name": "stdout",
     "output_type": "stream",
     "text": [
      "📄 Processing: data/telugu/10.parquet\n"
     ]
    },
    {
     "name": "stderr",
     "output_type": "stream",
     "text": [
      "Saving from 10: 100%|██████████| 4776/4776 [00:00<00:00, 6659.78it/s]\n"
     ]
    },
    {
     "name": "stdout",
     "output_type": "stream",
     "text": [
      "📄 Processing: data/telugu/3.parquet\n"
     ]
    },
    {
     "name": "stderr",
     "output_type": "stream",
     "text": [
      "Saving from 3: 100%|██████████| 4777/4777 [00:00<00:00, 7199.32it/s]\n"
     ]
    },
    {
     "name": "stdout",
     "output_type": "stream",
     "text": [
      "📄 Processing: data/telugu/15.parquet\n"
     ]
    },
    {
     "name": "stderr",
     "output_type": "stream",
     "text": [
      "Saving from 15: 100%|██████████| 4776/4776 [00:00<00:00, 6519.32it/s]\n"
     ]
    },
    {
     "name": "stdout",
     "output_type": "stream",
     "text": [
      "📄 Processing: data/telugu/6.parquet\n"
     ]
    },
    {
     "name": "stderr",
     "output_type": "stream",
     "text": [
      "Saving from 6: 100%|██████████| 4777/4777 [00:00<00:00, 7263.07it/s]\n"
     ]
    },
    {
     "name": "stdout",
     "output_type": "stream",
     "text": [
      "📄 Processing: data/telugu/41.parquet\n"
     ]
    },
    {
     "name": "stderr",
     "output_type": "stream",
     "text": [
      "Saving from 41: 100%|██████████| 4776/4776 [00:00<00:00, 6705.49it/s]\n"
     ]
    },
    {
     "name": "stdout",
     "output_type": "stream",
     "text": [
      "📄 Processing: data/telugu/33.parquet\n"
     ]
    },
    {
     "name": "stderr",
     "output_type": "stream",
     "text": [
      "Saving from 33: 100%|██████████| 4776/4776 [00:00<00:00, 7524.90it/s]\n"
     ]
    },
    {
     "name": "stdout",
     "output_type": "stream",
     "text": [
      "📄 Processing: data/telugu/23.parquet\n"
     ]
    },
    {
     "name": "stderr",
     "output_type": "stream",
     "text": [
      "Saving from 23: 100%|██████████| 4776/4776 [00:00<00:00, 7112.11it/s]\n"
     ]
    },
    {
     "name": "stdout",
     "output_type": "stream",
     "text": [
      "📄 Processing: data/telugu/40.parquet\n"
     ]
    },
    {
     "name": "stderr",
     "output_type": "stream",
     "text": [
      "Saving from 40: 100%|██████████| 4776/4776 [00:00<00:00, 6534.72it/s]\n"
     ]
    },
    {
     "name": "stdout",
     "output_type": "stream",
     "text": [
      "📄 Processing: data/telugu/22.parquet\n"
     ]
    },
    {
     "name": "stderr",
     "output_type": "stream",
     "text": [
      "Saving from 22: 100%|██████████| 4776/4776 [00:00<00:00, 6494.43it/s]\n"
     ]
    },
    {
     "name": "stdout",
     "output_type": "stream",
     "text": [
      "📄 Processing: data/telugu/32.parquet\n"
     ]
    },
    {
     "name": "stderr",
     "output_type": "stream",
     "text": [
      "Saving from 32: 100%|██████████| 4776/4776 [00:00<00:00, 7016.36it/s]\n"
     ]
    },
    {
     "name": "stdout",
     "output_type": "stream",
     "text": [
      "📄 Processing: data/telugu/14.parquet\n"
     ]
    },
    {
     "name": "stderr",
     "output_type": "stream",
     "text": [
      "Saving from 14: 100%|██████████| 4776/4776 [00:00<00:00, 6974.40it/s]\n"
     ]
    },
    {
     "name": "stdout",
     "output_type": "stream",
     "text": [
      "📄 Processing: data/telugu/7.parquet\n"
     ]
    },
    {
     "name": "stderr",
     "output_type": "stream",
     "text": [
      "Saving from 7: 100%|██████████| 4776/4776 [00:00<00:00, 7272.24it/s]\n"
     ]
    },
    {
     "name": "stdout",
     "output_type": "stream",
     "text": [
      "📄 Processing: data/telugu/30.parquet\n"
     ]
    },
    {
     "name": "stderr",
     "output_type": "stream",
     "text": [
      "Saving from 30: 100%|██████████| 4776/4776 [00:00<00:00, 6635.09it/s]\n"
     ]
    },
    {
     "name": "stdout",
     "output_type": "stream",
     "text": [
      "📄 Processing: data/telugu/20.parquet\n"
     ]
    },
    {
     "name": "stderr",
     "output_type": "stream",
     "text": [
      "Saving from 20: 100%|██████████| 4776/4776 [00:00<00:00, 5832.46it/s]\n"
     ]
    },
    {
     "name": "stdout",
     "output_type": "stream",
     "text": [
      "📄 Processing: data/telugu/42.parquet\n"
     ]
    },
    {
     "name": "stderr",
     "output_type": "stream",
     "text": [
      "Saving from 42: 100%|██████████| 4776/4776 [00:00<00:00, 5595.06it/s]\n"
     ]
    },
    {
     "name": "stdout",
     "output_type": "stream",
     "text": [
      "📄 Processing: data/telugu/29.parquet\n"
     ]
    },
    {
     "name": "stderr",
     "output_type": "stream",
     "text": [
      "Saving from 29: 100%|██████████| 4776/4776 [00:00<00:00, 6363.54it/s]\n"
     ]
    },
    {
     "name": "stdout",
     "output_type": "stream",
     "text": [
      "📄 Processing: data/telugu/39.parquet\n"
     ]
    },
    {
     "name": "stderr",
     "output_type": "stream",
     "text": [
      "Saving from 39: 100%|██████████| 4776/4776 [00:00<00:00, 6369.33it/s]\n"
     ]
    },
    {
     "name": "stdout",
     "output_type": "stream",
     "text": [
      "📄 Processing: data/telugu/5.parquet\n"
     ]
    },
    {
     "name": "stderr",
     "output_type": "stream",
     "text": [
      "Saving from 5: 100%|██████████| 4777/4777 [00:00<00:00, 6587.37it/s]\n"
     ]
    },
    {
     "name": "stdout",
     "output_type": "stream",
     "text": [
      "📄 Processing: data/telugu/16.parquet\n"
     ]
    },
    {
     "name": "stderr",
     "output_type": "stream",
     "text": [
      "Saving from 16: 100%|██████████| 4776/4776 [00:00<00:00, 6542.89it/s]\n"
     ]
    },
    {
     "name": "stdout",
     "output_type": "stream",
     "text": [
      "📄 Processing: data/telugu/38.parquet\n"
     ]
    },
    {
     "name": "stderr",
     "output_type": "stream",
     "text": [
      "Saving from 38: 100%|██████████| 4776/4776 [00:00<00:00, 6204.49it/s]\n"
     ]
    },
    {
     "name": "stdout",
     "output_type": "stream",
     "text": [
      "📄 Processing: data/telugu/28.parquet\n"
     ]
    },
    {
     "name": "stderr",
     "output_type": "stream",
     "text": [
      "Saving from 28: 100%|██████████| 4776/4776 [00:00<00:00, 6158.33it/s]\n"
     ]
    },
    {
     "name": "stdout",
     "output_type": "stream",
     "text": [
      "📄 Processing: data/telugu/4.parquet\n"
     ]
    },
    {
     "name": "stderr",
     "output_type": "stream",
     "text": [
      "Saving from 4: 100%|██████████| 4777/4777 [00:00<00:00, 6616.85it/s]\n"
     ]
    },
    {
     "name": "stdout",
     "output_type": "stream",
     "text": [
      "📄 Processing: data/telugu/17.parquet\n"
     ]
    },
    {
     "name": "stderr",
     "output_type": "stream",
     "text": [
      "Saving from 17: 100%|██████████| 4776/4776 [00:00<00:00, 7125.63it/s]\n"
     ]
    },
    {
     "name": "stdout",
     "output_type": "stream",
     "text": [
      "📄 Processing: data/telugu/21.parquet\n"
     ]
    },
    {
     "name": "stderr",
     "output_type": "stream",
     "text": [
      "Saving from 21: 100%|██████████| 4776/4776 [00:00<00:00, 7547.77it/s]\n"
     ]
    },
    {
     "name": "stdout",
     "output_type": "stream",
     "text": [
      "📄 Processing: data/telugu/31.parquet\n"
     ]
    },
    {
     "name": "stderr",
     "output_type": "stream",
     "text": [
      "Saving from 31: 100%|██████████| 4776/4776 [00:00<00:00, 6570.31it/s]\n"
     ]
    },
    {
     "name": "stdout",
     "output_type": "stream",
     "text": [
      "📄 Processing: data/telugu/43.parquet\n"
     ]
    },
    {
     "name": "stderr",
     "output_type": "stream",
     "text": [
      "Saving from 43: 100%|██████████| 4776/4776 [00:01<00:00, 3793.21it/s]"
     ]
    },
    {
     "name": "stdout",
     "output_type": "stream",
     "text": [
      "\n",
      "✅ Done. Saved 222331 audio files to 'data/telugu/audio'\n"
     ]
    },
    {
     "name": "stderr",
     "output_type": "stream",
     "text": [
      "\n"
     ]
    }
   ],
   "source": [
    "import os\n",
    "import pandas as pd\n",
    "from glob import glob\n",
    "from tqdm import tqdm\n",
    "\n",
    "# Paths\n",
    "parquet_dir = \"data/telugu\"\n",
    "output_dir = os.path.join(parquet_dir, \"audio\")\n",
    "os.makedirs(output_dir, exist_ok=True)\n",
    "\n",
    "# Get all parquet files\n",
    "parquet_files = glob(os.path.join(parquet_dir, \"*.parquet\"))\n",
    "\n",
    "saved_count = 0\n",
    "\n",
    "for parquet_file in parquet_files:\n",
    "    parquet_basename = os.path.splitext(os.path.basename(parquet_file))[0]\n",
    "\n",
    "    print(f\"📄 Processing: {parquet_file}\")\n",
    "    try:\n",
    "        df = pd.read_parquet(parquet_file)\n",
    "    except Exception as e:\n",
    "        print(f\"⚠️ Could not read {parquet_file}: {e}\")\n",
    "        continue\n",
    "\n",
    "    # Check for necessary columns\n",
    "    if not {'file', 'segment', 'audio_filepath'}.issubset(df.columns):\n",
    "        print(f\"⚠️ Skipping {parquet_file} — missing required columns.\")\n",
    "        continue\n",
    "\n",
    "    # Iterate over each row\n",
    "    for _, row in tqdm(df.iterrows(), total=len(df), desc=f\"Saving from {parquet_basename}\"):\n",
    "        try:\n",
    "            file_id = int(row['file'])\n",
    "            segment_id = int(row['segment'])\n",
    "\n",
    "            audio_data = row['audio_filepath']\n",
    "            if isinstance(audio_data, dict) and 'bytes' in audio_data:\n",
    "                audio_bytes = audio_data['bytes']\n",
    "                filename = f\"{parquet_basename}-{file_id}-{segment_id}.wav\"\n",
    "                output_path = os.path.join(output_dir, filename)\n",
    "\n",
    "                if not os.path.exists(output_path):\n",
    "                    with open(output_path, 'wb') as f:\n",
    "                        f.write(audio_bytes)\n",
    "                    saved_count += 1\n",
    "            else:\n",
    "                print(f\"⚠️ Missing 'bytes' in audio_filepath for file={file_id}, segment={segment_id}\")\n",
    "        except Exception as e:\n",
    "            print(f\"❌ Failed to save audio for file={file_id}, segment={segment_id}: {e}\")\n",
    "\n",
    "print(f\"\\n✅ Done. Saved {saved_count} audio files to '{output_dir}'\")"
   ]
  },
  {
   "cell_type": "code",
   "execution_count": 68,
   "id": "0015f551",
   "metadata": {
    "vscode": {
     "languageId": "ruby"
    }
   },
   "outputs": [],
   "source": [
    "import pandas as pd\n",
    "from IPython.display import Audio, display\n",
    "import io\n",
    "import base64\n",
    "import ast\n",
    "\n",
    "def maxFileCount(parquet_file):\n",
    "    parquet_file = f\"data/telugu/{parquet_file}.parquet\"\n",
    "    try:\n",
    "        df = pd.read_parquet(parquet_file)\n",
    "        if 'file' in df.columns:\n",
    "            return df['file'].max()\n",
    "        print(f\"⚠️ 'file' column not found in {parquet_file}\")\n",
    "    except Exception as e:\n",
    "        print(f\"❌ Error reading {parquet_file}: {e}\")\n",
    "    return None\n",
    "\n",
    "def getFile(parquet_file=1, file_number=1):\n",
    "    parquet_file = f\"data/telugu/{parquet_file}.parquet\"\n",
    "    try:\n",
    "        df = pd.read_parquet(parquet_file)\n",
    "        if {'file', 'text'}.issubset(df.columns):\n",
    "            return df[df['file'] == file_number]['text'].tolist()\n",
    "        print(f\"⚠️ Required columns not found in {parquet_file}\")\n",
    "    except Exception as e:\n",
    "        print(f\"❌ Error reading {parquet_file}: {e}\")\n",
    "    return []\n",
    "\n",
    "def getAudio(parquet_file=1, file_number=1, segment_number=1):\n",
    "    parquet_file = f\"data/telugu/{parquet_file}.parquet\"\n",
    "    try:\n",
    "        df = pd.read_parquet(parquet_file)\n",
    "        if {'file', 'segment', 'audio_filepath', 'samples'}.issubset(df.columns):\n",
    "            row = df[(df['file'] == file_number) & (df['segment'] == segment_number)]\n",
    "            if not row.empty:\n",
    "                audio_data = row.iloc[0]['audio_filepath']\n",
    "                if isinstance(audio_data, dict) and 'bytes' in audio_data:\n",
    "                    return audio_data['bytes']\n",
    "                print(f\"⚠️ 'bytes' key not found in audio_filepath\")\n",
    "            else:\n",
    "                print(f\"⚠️ No matching file={file_number}, segment={segment_number}\")\n",
    "        else:\n",
    "            print(f\"⚠️ Required columns not found in {parquet_file}\")\n",
    "    except Exception as e:\n",
    "        print(f\"❌ Error reading {parquet_file}: {e}\")\n",
    "    return None\n",
    "\n",
    "def play(audioStr, autoplay=True):\n",
    "    audio_player = Audio(audioStr, autoplay=autoplay, rate=48000)\n",
    "    display(audio_player)"
   ]
  },
  {
   "cell_type": "code",
   "execution_count": 94,
   "id": "a57bfdd7",
   "metadata": {
    "vscode": {
     "languageId": "ruby"
    }
   },
   "outputs": [
    {
     "name": "stdout",
     "output_type": "stream",
     "text": [
      "933\n",
      "18\n",
      "హలో\n",
      "హలో నమస్కారము అండి\n",
      "ఆ నేను ఒక మీది రెంట్ కోసం ఇల్లు పెట్టారుకదండి\n",
      "ఆ దాని కొంచెం డీటెయిల్స్ ఆ వివరాలు ఏమైనా చెప్తారా\n",
      "ఆహ ఎంతలో\n",
      "మీరు ఎంత చెప్తున్నారు అండి\n",
      "ఆ ఇల్లు చూసాము మీ ఇల్లు చూసాము అండి అంతా బాగానే ఉంది మీరు చెప్తే దాన్ని బట్టి మాట్లాడదాము అనే మీకు ఫోన్ చేస్తున్నాను\n",
      "లీజ్కి అయితే\n",
      "లీజ్ లీజ్కి ఎంత ఎంతకి ఇస్తారు అండి\n",
      "అది ఏంటి అండి ఆరు లక్షలు అంటే మరీ ఎక్కువ కాదా కొంచెం చుడండి తగ్గించండి\n",
      "మరీ ఇంకా కరెంటు బిల్లు మంచినీళ్ళు\n",
      "మరి ఇన్ని ఉంటాయి కదండీ\n",
      "మాకు ఇళ్ళు అయితే నచ్చిందండి కొంచెం తగ్గిస్తే బాగుంటుందని అనుకుంటున్నాను\n",
      "ఇంటికి\n",
      "లీజుకి అయితే ఒక ఐదులక్షలకి ఇస్తారా అండి\n",
      "సరేనండి నాకైతే మీ ఇది నచ్చింది మీ ఇల్లు అది సరేనండి నేను తీసుకుంటాను లీజ్కి తీసుకుంటాను లేండి కొంచెం అగ్రిమెంట్ అంతా మీరు తయారుచేయండి\n",
      "ఆ సరేనండి ఎప్పుడు రమ్మంటారు\n",
      "సరే సరేనండి ఇంకా మళ్ళీ ఇంకెవరికి చెప్పకండి మేము తీసుకుంటాము ఆ సరేనండి నమస్కారము అండి\n"
     ]
    }
   ],
   "source": [
    "parquet = 10\n",
    "file = 102\n",
    "print(maxFileCount(parquet))\n",
    "print(len(getFile(parquet, file)))\n",
    "\n",
    "for segment in getFile(parquet, file):\n",
    "    print(segment)"
   ]
  },
  {
   "cell_type": "code",
   "execution_count": 93,
   "id": "7575f6c1",
   "metadata": {
    "vscode": {
     "languageId": "ruby"
    }
   },
   "outputs": [
    {
     "data": {
      "text/html": [
       "\n",
       "                <audio  controls=\"controls\" autoplay=\"autoplay\">\n",
       "                    <source src=\"data:audio/wav;base64,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\" type=\"audio/wav\" />\n",
       "                    Your browser does not support the audio element.\n",
       "                </audio>\n",
       "              "
      ],
      "text/plain": [
       "<IPython.lib.display.Audio object>"
      ]
     },
     "metadata": {},
     "output_type": "display_data"
    }
   ],
   "source": [
    "play(getAudio(10,102,1))"
   ]
  }
 ],
 "metadata": {
  "kernelspec": {
   "display_name": "Python 3",
   "language": "python",
   "name": "python3"
  },
  "language_info": {
   "codemirror_mode": {
    "name": "ipython",
    "version": 3
   },
   "file_extension": ".py",
   "mimetype": "text/x-python",
   "name": "python",
   "nbconvert_exporter": "python",
   "pygments_lexer": "ipython3",
   "version": "3.9.6"
  }
 },
 "nbformat": 4,
 "nbformat_minor": 5
}
