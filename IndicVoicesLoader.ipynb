{
 "cells": [
  {
   "cell_type": "code",
   "execution_count": 68,
   "id": "b920d7ab",
   "metadata": {},
   "outputs": [
    {
     "name": "stderr",
     "output_type": "stream",
     "text": [
      "/Users/imradhe/Library/Python/3.9/lib/python/site-packages/huggingface_hub/file_download.py:982: UserWarning: `local_dir_use_symlinks` parameter is deprecated and will be ignored. The process to download files to a local folder has been updated and do not rely on symlinks anymore. You only need to pass a destination folder as`local_dir`.\n",
      "For more details, check out https://huggingface.co/docs/huggingface_hub/main/en/guides/download#download-files-to-local-folder.\n",
      "  warnings.warn(\n",
      "Fetching 47 files: 100%|██████████| 47/47 [00:33<00:00,  1.40it/s]"
     ]
    },
    {
     "name": "stdout",
     "output_type": "stream",
     "text": [
      "Downloaded files into ./data\n"
     ]
    },
    {
     "name": "stderr",
     "output_type": "stream",
     "text": [
      "\n"
     ]
    }
   ],
   "source": [
    "import os\n",
    "from huggingface_hub import snapshot_download\n",
    "\n",
    "def download_parquets(\n",
    "    repo_id: str = \"ai4bharat/IndicVoices\",\n",
    "    repo_type: str = \"dataset\",\n",
    "    subfolder: str = \"telugu\",\n",
    "    target_dir: str = \"./IndicVoices_telugu_parquets\",\n",
    "    allow_pattern: str = f\"telugu/*.parquet\",\n",
    "    revision: str = \"main\"\n",
    "):\n",
    "    os.makedirs(target_dir, exist_ok=True)\n",
    "    # snapshot_download will respect allow_patterns to filter files\n",
    "    snapshot_download(\n",
    "        repo_id=repo_id,\n",
    "        repo_type=repo_type,\n",
    "        revision=revision,\n",
    "        local_dir=target_dir,\n",
    "        local_dir_use_symlinks=False,\n",
    "        allow_patterns=[allow_pattern]\n",
    "    )\n",
    "    print(f\"Downloaded files into {target_dir}\")\n",
    "\n",
    "if __name__ == \"__main__\":\n",
    "    download_parquets(target_dir=\"./data\", subfolder=\"telugu\")"
   ]
  },
  {
   "cell_type": "code",
   "execution_count": 100,
   "id": "bb292bca",
   "metadata": {
    "vscode": {
     "languageId": "ruby"
    }
   },
   "outputs": [
    {
     "name": "stderr",
     "output_type": "stream",
     "text": [
      "Processing rows: 100%|██████████| 2629/2629 [00:00<00:00, 8455.33it/s]\n"
     ]
    }
   ],
   "source": [
    "from tqdm import tqdm\n",
    "\n",
    "# Define the columns to group by\n",
    "group_columns = ['speaker_id', 'scenario', 'task_name', 'gender',\n",
    "                 'age_group', 'job_type', 'qualification', 'area', \n",
    "                 'district', 'state', 'occupation']\n",
    "\n",
    "# Initialize the ID column\n",
    "df['id'] = 0\n",
    "\n",
    "# Initialize the first ID\n",
    "current_id = 1\n",
    "\n",
    "# Iterate through the rows of the DataFrame with tqdm\n",
    "for i in tqdm(range(len(df)), desc=\"Processing rows\"):\n",
    "    if i == 0:\n",
    "        # Assign the first ID to the first row\n",
    "        df.at[i, 'id'] = current_id\n",
    "    else:\n",
    "        # Check if the current row matches the previous row in the group columns\n",
    "        if all(df.at[i, col] == df.at[i - 1, col] for col in group_columns):\n",
    "            # Assign the same ID as the previous row\n",
    "            df.at[i, 'id'] = current_id\n",
    "        else:\n",
    "            # Increment the ID and assign it to the current row\n",
    "            current_id += 1\n",
    "            df.at[i, 'id'] = current_id"
   ]
  },
  {
   "cell_type": "code",
   "execution_count": 167,
   "id": "ec99900d",
   "metadata": {
    "vscode": {
     "languageId": "ruby"
    }
   },
   "outputs": [
    {
     "data": {
      "text/html": [
       "<div>\n",
       "<style scoped>\n",
       "    .dataframe tbody tr th:only-of-type {\n",
       "        vertical-align: middle;\n",
       "    }\n",
       "\n",
       "    .dataframe tbody tr th {\n",
       "        vertical-align: top;\n",
       "    }\n",
       "\n",
       "    .dataframe thead th {\n",
       "        text-align: right;\n",
       "    }\n",
       "</style>\n",
       "<table border=\"1\" class=\"dataframe\">\n",
       "  <thead>\n",
       "    <tr style=\"text-align: right;\">\n",
       "      <th></th>\n",
       "      <th>audio_filepath</th>\n",
       "      <th>text</th>\n",
       "      <th>duration</th>\n",
       "      <th>lang</th>\n",
       "      <th>samples</th>\n",
       "      <th>verbatim</th>\n",
       "      <th>normalized</th>\n",
       "      <th>speaker_id</th>\n",
       "      <th>scenario</th>\n",
       "      <th>task_name</th>\n",
       "      <th>...</th>\n",
       "      <th>area</th>\n",
       "      <th>district</th>\n",
       "      <th>state</th>\n",
       "      <th>occupation</th>\n",
       "      <th>verification_report</th>\n",
       "      <th>unsanitized_verbatim</th>\n",
       "      <th>unsanitized_normalized</th>\n",
       "      <th>id</th>\n",
       "      <th>file</th>\n",
       "      <th>segment</th>\n",
       "    </tr>\n",
       "  </thead>\n",
       "  <tbody>\n",
       "    <tr>\n",
       "      <th>0</th>\n",
       "      <td>{'bytes': b'fLaC\\x00\\x00\\x00\"\\x10\\x00\\x10\\x00\\...</td>\n",
       "      <td>వల గట్టిగా లాగి చూసేసరికి ఆ వలలో పెద్ద చేప కనప...</td>\n",
       "      <td>9.184</td>\n",
       "      <td>te</td>\n",
       "      <td>146944</td>\n",
       "      <td>వల గట్టిగా లాగి చూసేసరికి ఆ వలలో పెద్ద చేప కనప...</td>\n",
       "      <td>వల గట్టిగా లాగి చూసేసరికి ఆ వలలో పెద్ద చేప కనప...</td>\n",
       "      <td>S4258915300327248</td>\n",
       "      <td>Extempore</td>\n",
       "      <td>KYP - Fishing</td>\n",
       "      <td>...</td>\n",
       "      <td>Urban</td>\n",
       "      <td>Guntur</td>\n",
       "      <td>Andhra Pradesh</td>\n",
       "      <td>Business</td>\n",
       "      <td>{'decision': 'excellent', 'low_volume': False,...</td>\n",
       "      <td>వల గట్టిగా లాగి చూసేసరికి ఆ వలలో పెద్ద చేప కనప...</td>\n",
       "      <td>వల గట్టిగా లాగి చూసేసరికి ఆ వలలో పెద్ద చేప కనప...</td>\n",
       "      <td>1</td>\n",
       "      <td>1</td>\n",
       "      <td>1</td>\n",
       "    </tr>\n",
       "    <tr>\n",
       "      <th>1</th>\n",
       "      <td>{'bytes': b'fLaC\\x00\\x00\\x00\"\\x10\\x00\\x10\\x00\\...</td>\n",
       "      <td>తీసుకొచ్చిన తర్వాత మాకు తెలియడం జరిగింది</td>\n",
       "      <td>2.646</td>\n",
       "      <td>te</td>\n",
       "      <td>42336</td>\n",
       "      <td>తీసుకొచ్చిన తర్వాత మాకు తెలియడం జరిగింది</td>\n",
       "      <td>తీసుకొచ్చిన తర్వాత మాకు తెలియడం జరిగింది</td>\n",
       "      <td>S4258915300327248</td>\n",
       "      <td>Extempore</td>\n",
       "      <td>KYP - Fishing</td>\n",
       "      <td>...</td>\n",
       "      <td>Urban</td>\n",
       "      <td>Guntur</td>\n",
       "      <td>Andhra Pradesh</td>\n",
       "      <td>Business</td>\n",
       "      <td>{'decision': 'excellent', 'low_volume': False,...</td>\n",
       "      <td>తీసుకొచ్చిన తర్వాత మాకు [noise] తెలియడం జరిగింది</td>\n",
       "      <td>తీసుకొచ్చిన తర్వాత మాకు [noise] తెలియడం జరిగింది</td>\n",
       "      <td>2</td>\n",
       "      <td>1</td>\n",
       "      <td>2</td>\n",
       "    </tr>\n",
       "    <tr>\n",
       "      <th>2</th>\n",
       "      <td>{'bytes': b'fLaC\\x00\\x00\\x00\"\\x10\\x00\\x10\\x00\\...</td>\n",
       "      <td>సిస్కో సిస్టం</td>\n",
       "      <td>2.248</td>\n",
       "      <td>te</td>\n",
       "      <td>35968</td>\n",
       "      <td>సిస్కో సిస్టెమ్</td>\n",
       "      <td>సిస్కో సిస్టం</td>\n",
       "      <td>S4259469500399772</td>\n",
       "      <td>Read</td>\n",
       "      <td>Alexa Commands</td>\n",
       "      <td>...</td>\n",
       "      <td>Rural</td>\n",
       "      <td>Kakinada</td>\n",
       "      <td>Andhra Pradesh</td>\n",
       "      <td>Student</td>\n",
       "      <td>{'decision': 'excellent', 'low_volume': False,...</td>\n",
       "      <td>సిస్కో సిస్టెమ్</td>\n",
       "      <td>సిస్కో [cisco] సిస్టం [system]</td>\n",
       "      <td>3</td>\n",
       "      <td>2</td>\n",
       "      <td>1</td>\n",
       "    </tr>\n",
       "    <tr>\n",
       "      <th>3</th>\n",
       "      <td>{'bytes': b'fLaC\\x00\\x00\\x00\"\\x10\\x00\\x10\\x00\\...</td>\n",
       "      <td>హలో</td>\n",
       "      <td>0.448</td>\n",
       "      <td>te</td>\n",
       "      <td>7168</td>\n",
       "      <td>హలో</td>\n",
       "      <td>హలో</td>\n",
       "      <td>S4257365000302537</td>\n",
       "      <td>Conversation</td>\n",
       "      <td>Conversation</td>\n",
       "      <td>...</td>\n",
       "      <td>Urban</td>\n",
       "      <td>Sangareddy</td>\n",
       "      <td>Telangana</td>\n",
       "      <td>Student</td>\n",
       "      <td>{'sst': False, 'comments': '', 'decision': 'ex...</td>\n",
       "      <td>హలో</td>\n",
       "      <td>హలో [hello]</td>\n",
       "      <td>4</td>\n",
       "      <td>3</td>\n",
       "      <td>1</td>\n",
       "    </tr>\n",
       "    <tr>\n",
       "      <th>4</th>\n",
       "      <td>{'bytes': b'fLaC\\x00\\x00\\x00\"\\x10\\x00\\x10\\x00\\...</td>\n",
       "      <td>హలో నా పేరు శరణ్ నేను మీ కంపెనీలో వేకెన్సీస్ ఉ...</td>\n",
       "      <td>6.017</td>\n",
       "      <td>te</td>\n",
       "      <td>96272</td>\n",
       "      <td>హలో నా పేరు శరణ్ నేను మీ కంపెనీలో వేకెన్సీస్ ఉ...</td>\n",
       "      <td>హలో నా పేరు శరణ్ నేను మీ కంపెనీలో వేకెన్సీస్ ఉ...</td>\n",
       "      <td>S4257365000302537</td>\n",
       "      <td>Conversation</td>\n",
       "      <td>Conversation</td>\n",
       "      <td>...</td>\n",
       "      <td>Urban</td>\n",
       "      <td>Sangareddy</td>\n",
       "      <td>Telangana</td>\n",
       "      <td>Student</td>\n",
       "      <td>{'sst': False, 'comments': '', 'decision': 'ex...</td>\n",
       "      <td>హలో నా పేరు శరణ్ నేను మీ కంపెనీలో వేకెన్సీస్ ఉ...</td>\n",
       "      <td>హలో [hello] నా పేరు శరణ్ నేను మీ కంపెనీలో వేకె...</td>\n",
       "      <td>5</td>\n",
       "      <td>3</td>\n",
       "      <td>2</td>\n",
       "    </tr>\n",
       "  </tbody>\n",
       "</table>\n",
       "<p>5 rows × 24 columns</p>\n",
       "</div>"
      ],
      "text/plain": [
       "                                      audio_filepath  \\\n",
       "0  {'bytes': b'fLaC\\x00\\x00\\x00\"\\x10\\x00\\x10\\x00\\...   \n",
       "1  {'bytes': b'fLaC\\x00\\x00\\x00\"\\x10\\x00\\x10\\x00\\...   \n",
       "2  {'bytes': b'fLaC\\x00\\x00\\x00\"\\x10\\x00\\x10\\x00\\...   \n",
       "3  {'bytes': b'fLaC\\x00\\x00\\x00\"\\x10\\x00\\x10\\x00\\...   \n",
       "4  {'bytes': b'fLaC\\x00\\x00\\x00\"\\x10\\x00\\x10\\x00\\...   \n",
       "\n",
       "                                                text  duration lang  samples  \\\n",
       "0  వల గట్టిగా లాగి చూసేసరికి ఆ వలలో పెద్ద చేప కనప...     9.184   te   146944   \n",
       "1           తీసుకొచ్చిన తర్వాత మాకు తెలియడం జరిగింది     2.646   te    42336   \n",
       "2                                      సిస్కో సిస్టం     2.248   te    35968   \n",
       "3                                                హలో     0.448   te     7168   \n",
       "4  హలో నా పేరు శరణ్ నేను మీ కంపెనీలో వేకెన్సీస్ ఉ...     6.017   te    96272   \n",
       "\n",
       "                                            verbatim  \\\n",
       "0  వల గట్టిగా లాగి చూసేసరికి ఆ వలలో పెద్ద చేప కనప...   \n",
       "1           తీసుకొచ్చిన తర్వాత మాకు తెలియడం జరిగింది   \n",
       "2                                    సిస్కో సిస్టెమ్   \n",
       "3                                                హలో   \n",
       "4  హలో నా పేరు శరణ్ నేను మీ కంపెనీలో వేకెన్సీస్ ఉ...   \n",
       "\n",
       "                                          normalized         speaker_id  \\\n",
       "0  వల గట్టిగా లాగి చూసేసరికి ఆ వలలో పెద్ద చేప కనప...  S4258915300327248   \n",
       "1           తీసుకొచ్చిన తర్వాత మాకు తెలియడం జరిగింది  S4258915300327248   \n",
       "2                                      సిస్కో సిస్టం  S4259469500399772   \n",
       "3                                                హలో  S4257365000302537   \n",
       "4  హలో నా పేరు శరణ్ నేను మీ కంపెనీలో వేకెన్సీస్ ఉ...  S4257365000302537   \n",
       "\n",
       "       scenario       task_name  ...   area    district           state  \\\n",
       "0     Extempore   KYP - Fishing  ...  Urban      Guntur  Andhra Pradesh   \n",
       "1     Extempore   KYP - Fishing  ...  Urban      Guntur  Andhra Pradesh   \n",
       "2          Read  Alexa Commands  ...  Rural    Kakinada  Andhra Pradesh   \n",
       "3  Conversation    Conversation  ...  Urban  Sangareddy       Telangana   \n",
       "4  Conversation    Conversation  ...  Urban  Sangareddy       Telangana   \n",
       "\n",
       "  occupation                                verification_report  \\\n",
       "0   Business  {'decision': 'excellent', 'low_volume': False,...   \n",
       "1   Business  {'decision': 'excellent', 'low_volume': False,...   \n",
       "2    Student  {'decision': 'excellent', 'low_volume': False,...   \n",
       "3    Student  {'sst': False, 'comments': '', 'decision': 'ex...   \n",
       "4    Student  {'sst': False, 'comments': '', 'decision': 'ex...   \n",
       "\n",
       "                                unsanitized_verbatim  \\\n",
       "0  వల గట్టిగా లాగి చూసేసరికి ఆ వలలో పెద్ద చేప కనప...   \n",
       "1  తీసుకొచ్చిన తర్వాత మాకు [noise] తెలియడం జరిగింది    \n",
       "2                                    సిస్కో సిస్టెమ్   \n",
       "3                                                హలో   \n",
       "4  హలో నా పేరు శరణ్ నేను మీ కంపెనీలో వేకెన్సీస్ ఉ...   \n",
       "\n",
       "                              unsanitized_normalized id file segment  \n",
       "0  వల గట్టిగా లాగి చూసేసరికి ఆ వలలో పెద్ద చేప కనప...  1    1       1  \n",
       "1  తీసుకొచ్చిన తర్వాత మాకు [noise] తెలియడం జరిగింది   2    1       2  \n",
       "2                     సిస్కో [cisco] సిస్టం [system]  3    2       1  \n",
       "3                                       హలో [hello]   4    3       1  \n",
       "4  హలో [hello] నా పేరు శరణ్ నేను మీ కంపెనీలో వేకె...  5    3       2  \n",
       "\n",
       "[5 rows x 24 columns]"
      ]
     },
     "execution_count": 167,
     "metadata": {},
     "output_type": "execute_result"
    }
   ],
   "source": [
    "df.head()"
   ]
  },
  {
   "cell_type": "code",
   "execution_count": 110,
   "id": "da448553",
   "metadata": {
    "vscode": {
     "languageId": "ruby"
    }
   },
   "outputs": [
    {
     "name": "stdout",
     "output_type": "stream",
     "text": [
      "\n",
      "Processing: data/telugu/train-00003-of-00046.parquet\n",
      "Max ID in train-00003-of-00046.parquet: 972\n"
     ]
    }
   ],
   "source": [
    "import os\n",
    "import pandas as pd\n",
    "from tqdm import tqdm\n",
    "\n",
    "# Define the group-by columns\n",
    "group_columns = [\n",
    "    'speaker_id', 'scenario', 'task_name', 'gender',\n",
    "    'age_group', 'job_type', 'qualification', 'area', \n",
    "    'district', 'state', 'occupation'\n",
    "]\n",
    "\n",
    "# Replace with your target directory\n",
    "target_directory = \"data/telugu\"\n",
    "\n",
    "# Function to assign IDs based on group change\n",
    "def assign_ids(df, group_columns):\n",
    "    df = df.copy()\n",
    "    df['id'] = 0\n",
    "    current_id = 1\n",
    "\n",
    "    for i in range(len(df)):\n",
    "        if i == 0:\n",
    "            df.at[i, 'id'] = current_id\n",
    "        else:\n",
    "            if all(df.at[i, col] == df.at[i - 1, col] for col in group_columns):\n",
    "                df.at[i, 'id'] = current_id\n",
    "            else:\n",
    "                current_id += 1\n",
    "                df.at[i, 'id'] = current_id\n",
    "\n",
    "    return df\n",
    "\n",
    "# Walk through all files\n",
    "for root, _, files in os.walk(target_directory):\n",
    "    for file in files:\n",
    "        if file.endswith(\".parquet\"):\n",
    "            file_path = os.path.join(root, file)\n",
    "            print(f\"\\nProcessing: {file_path}\")\n",
    "\n",
    "            try:\n",
    "                df = pd.read_parquet(file_path)\n",
    "                df.sort_values(by=group_columns, inplace=True, ignore_index=True)\n",
    "\n",
    "                # Assign IDs\n",
    "                df = assign_ids(df, group_columns)\n",
    "\n",
    "                # Print the max ID\n",
    "                print(f\"Max ID in {file}: {df['id'].max()}\")\n",
    "            except Exception as e:\n",
    "                print(f\"Error processing {file}: {e}\")\n",
    "        break"
   ]
  },
  {
   "cell_type": "code",
   "execution_count": 122,
   "id": "6dbdbec1",
   "metadata": {
    "vscode": {
     "languageId": "ruby"
    }
   },
   "outputs": [
    {
     "name": "stderr",
     "output_type": "stream",
     "text": [
      "Assigning file/segment: 100%|██████████| 4777/4777 [00:00<00:00, 8265.39it/s]\n"
     ]
    },
    {
     "name": "stdout",
     "output_type": "stream",
     "text": [
      "✅ Saved output to: data/te/train-00000-of-00046.parquet\n"
     ]
    }
   ],
   "source": [
    "import pandas as pd\n",
    "from tqdm import tqdm\n",
    "\n",
    "# Input Parquet file path\n",
    "parquet_file = \"data/telugu/train-00000-of-00046.parquet\"  # change this to your actual file path\n",
    "\n",
    "# Output path\n",
    "output_file = \"data/te/train-00000-of-00046.parquet\"\n",
    "\n",
    "# Read the parquet file\n",
    "df = pd.read_parquet(parquet_file)\n",
    "\n",
    "# Define the columns to group by\n",
    "group_columns = ['speaker_id', 'scenario', 'task_name', 'gender',\n",
    "                 'age_group', 'job_type', 'qualification', 'area', \n",
    "                 'district', 'state', 'occupation']\n",
    "\n",
    "# Initialize new columns\n",
    "df['file'] = 0\n",
    "df['segment'] = 0\n",
    "\n",
    "# Start counters\n",
    "file_num = 1\n",
    "segment_num = 1\n",
    "\n",
    "# Process with tqdm\n",
    "for i in tqdm(range(len(df)), desc=\"Assigning file/segment\"):\n",
    "    df.at[i, 'file'] = file_num\n",
    "    df.at[i, 'segment'] = segment_num\n",
    "    \n",
    "    if i < len(df) - 1:\n",
    "        same_group = all(df.at[i, col] == df.at[i+1, col] for col in group_columns)\n",
    "        if same_group:\n",
    "            segment_num += 1\n",
    "        else:\n",
    "            file_num += 1\n",
    "            segment_num = 1\n",
    "\n",
    "# Save to new parquet\n",
    "df.to_parquet(output_file, index=False)\n",
    "print(f\"✅ Saved output to: {output_file}\")"
   ]
  },
  {
   "cell_type": "code",
   "execution_count": 131,
   "id": "077d9895",
   "metadata": {
    "vscode": {
     "languageId": "ruby"
    }
   },
   "outputs": [
    {
     "data": {
      "text/plain": [
       "1064"
      ]
     },
     "execution_count": 131,
     "metadata": {},
     "output_type": "execute_result"
    }
   ],
   "source": [
    "df = pd.read_parquet(output_file)\n",
    "\n",
    "# max file number\n",
    "df['file'].max()"
   ]
  },
  {
   "cell_type": "code",
   "execution_count": 160,
   "id": "aef820af",
   "metadata": {
    "vscode": {
     "languageId": "ruby"
    }
   },
   "outputs": [
    {
     "data": {
      "text/plain": [
       "['నాకు పూల్లో ఈత కొట్టడం అంటే ఇష్టము ఎందుకంటే ఆ పూల్లో నీరు ఒకే దగ్గర ఉంటుంది కానీ మనము',\n",
       " 'బీచ్ లేదా సరస్సులో ఈత కొట్టినప్పుడు నీటి ప్రవాహం అనేది ఒకవైపు ఉంటుంది మరియు మనల్ని ఆ ప్రవాహాం ఎటు వైపు ఉంటే ఆటువైపు',\n",
       " 'మనల్ని తీసుకు వెళ్ళిపోతుంది అందుకని అక్కడ ఈత కొట్టడం చాలా కష్టంగా ఉంటుంది కానీ మనం పూల్లో ఈత కొడితే',\n",
       " 'అక్కడ నీటు నీరు ఒకే ఒకే స్థిరమైన ప్రదేశంలో ఉంటాయి నీటిలో ఎలాంటి కదలిక ఉండదు కాబట్టి',\n",
       " 'పూల్లో ఈత కొట్టడం అనేది చాలా సులువుగా ఉంటుంది మరియు నేను ఈత కొట్టేందుకు',\n",
       " 'మా ఊరి దగ్గర ఉన్న బావిలోకి వెళ్తాను ఎందుకు అనగా బావిలో నీరు ఎప్పుడు స్వచ్ఛంగా ఉంటుంది',\n",
       " 'మరియు ఆ బావిలో నీరు ప్రవహించకుండా ఒక స్థిరమైన ప్రదేశంలో ఉంటుంది',\n",
       " 'అలాంటి బావులు మా ప్రదేశాలలో మా చుట్టు ప్రక్కల చాలా ఉన్నాయి అలాంటిది అలాంటివి రెండు మూడు',\n",
       " 'బావులు ఉన్నాయి అందులో ఒకటి చాలా పెద్దగా ఉంటుంది అందులో నేను ఎక్కువగా ఈత కొట్టడానికి ఇష్టపడతాను ఈత కొట్టడం వల్ల',\n",
       " 'శరీరానికి చాలా మంచిది మరియు ఆరోగ్యం చాలా ఆరోగ్యం ఆరోగ్యానికి చాలా మంచిది ఇలా ఈత డై ఇలా రోజూకి పొద్దున్న ఒక గంట సాయంత్రం ఒక గంట ఈత కొట్టడం వల్ల',\n",
       " 'మనకు మన శరీరం చాలా దృడంగా మారుతుంది మరియు ఇది మన రక్షణ కోసం',\n",
       " 'ఎప్పుడైనా వర్షం పడి వరదలు అలాంటి సమయాలలో మనల్ని మనం రక్షించుకోడానికి ఈ ఈత అనేది చాలా',\n",
       " 'ఉపయోగపడుతుంది మరియు ఈతని కూడ ఒక క్రీడలాగా ప్రోత్సాహిస్తారు మరియు అంతర్జాతీయ పోటీలు ఒలంపిక్స్ లాంటి పోటీలలో ఈతని చాలా ప్రత్యేకంగా',\n",
       " 'చూస్తారు ఈత నేర్చుకోవడం వల్ల మనము',\n",
       " 'క్రీడలలో పాల్గొనవచ్చు మరియు మనకు తెలిసిన కళలాగా దీన్నీ దీన్నీ మనల్ని మనల్ని మన పెద్దవాళ్ళు ప్రోత్సహిస్తే మనం ఇందులోనే',\n",
       " 'చాలా ఘనత సంపాదించవచ్చు ఈత కొట్టడం అనేది చాలా',\n",
       " 'కఠినమైన విద్య నేర్చుకోవడానికి చాలా శ్రమ మరియు ఓపిక కావాలి ఈత నేర్చుకోవడానికి నాకు',\n",
       " 'ఆరు నెలలు పట్టింది ఆరు నెలలు ఆరు నెలలలో నేను ఈతని నేర్చుకున్నాను',\n",
       " 'నాకు మా నాన్నగారు ఈత నేర్పించారు ఈత నేర్చుకునేటప్పుడు నాకు మొదలు పెట్టినప్పుడు',\n",
       " 'మొదట్లో నాకు చాలా భయం వేసేది నీరు అంటే చాలాసార్లు నీటిలో మునిగిపోయాను అయినా కానీ ఈత నేర్చుకోవాలి అనే ఒక ధృఢ సంకల్పంతో నేను ఈత నేర్చుకునే వరకు',\n",
       " 'ఆగలేదు ఇప్పుడు నేను సరస్సులో అయినా బీచ్లో అయినా పూల్లో అయినా ఎక్కడైనా నేను ఈత కొట్టగలను',\n",
       " 'కానీ బావిలో ఉన్న నీరు చాలా స్వచ్ఛమైనది మరియు మనకి ఎలాంటి ఆరోగ్య సమస్యలు రావు అలాంటి బావిలో ఈత కొట్టడం వల్ల',\n",
       " 'మరియు ఈత వల్ల మన శరీరం చాలా ధృఢంగా మారుతుంది మరియు మనకి ఎంతో శక్తిని ఇస్తుంది',\n",
       " 'మనం ఆరోగ్యంగా ఉండాలి అంటే రోజుకు కనీసం ఒక గంట అయినా ఈత కొట్టాలి ఈతని ఒక క్రీడలాగా ఒక ఆత్మ రక్షణ కవచంలాగా మరియు',\n",
       " 'ఒక కళలాగా ఒక క్రీడలాగా చాలా రకాలుగా ఈత మనకి ఉపయోగపడుతుంది',\n",
       " 'ఒకానొక సమయంలో మనము నదిలో కొట్టుకుపోయినా వరదల వల్ల మనము ఉండే ప్రదేశంలో నీటిమట్టం ఎక్కువైనా కానీ',\n",
       " 'మనం ఈత ఈత వల్ల బతికి బతకచ్చు అదే కాకుండా మనం మన ప్రాణలను కాకుండా ఇతర ప్రాణలను కూడ రక్షించవచ్చు',\n",
       " 'ఇవి ఈత వల్ల ఉన్న ఉపయోగాలు ఇవే కాకుండా ఈత వల్ల మనకి చాలా ఉపయోగాలు ఉన్నాయి',\n",
       " 'కొంతమంది ఈతని నేర్పి డబ్బు ఖర్చు చేసి మరీ ఈత నేర్చుకుంటున్నారు',\n",
       " 'మన జీవితంలో ఈత ఈత నేర్చుకోవడం అనేది చాలా ముఖ్యమైన',\n",
       " 'కా కావాల్సింది మనకి అందుకని ఈత నేర్చుకున్న నేను నాకు వచ్చిన కళని నేను ఇతరులకి నేర్పించడానికి ఇష్టపడతాను నా దగ్గరకు వచ్చి ఎవరైనా సరే ఈత నేర్పించు అని నన్ను అడిగితే నేను చాలామందికి ఇప్పటివరకు అలా ఈత నేర్పించాను',\n",
       " 'తనని మనం ఈ కళ నేర్చుకోవడం వల్ల మనల్ని మనమే కాకుండా ఇతరులని కూడ రక్షించవచ్చు']"
      ]
     },
     "execution_count": 160,
     "metadata": {},
     "output_type": "execute_result"
    }
   ],
   "source": [
    "# get all the segments of a given file\n",
    "\n",
    "file = 14\n",
    "df[df['file'] == file].drop(columns=['audio_filepath'])['text'].to_list()"
   ]
  },
  {
   "cell_type": "code",
   "execution_count": 163,
   "id": "a1f9b33f",
   "metadata": {
    "vscode": {
     "languageId": "ruby"
    }
   },
   "outputs": [
    {
     "name": "stderr",
     "output_type": "stream",
     "text": [
      "Processing files:   2%|▏         | 1/47 [00:01<01:07,  1.46s/it]"
     ]
    },
    {
     "name": "stdout",
     "output_type": "stream",
     "text": [
      "✅ Updated: data/telugu/train-00003-of-00046.parquet\n"
     ]
    },
    {
     "name": "stderr",
     "output_type": "stream",
     "text": [
      "Processing files:   4%|▍         | 2/47 [00:02<01:02,  1.38s/it]"
     ]
    },
    {
     "name": "stdout",
     "output_type": "stream",
     "text": [
      "✅ Updated: data/telugu/train-00022-of-00046.parquet\n"
     ]
    },
    {
     "name": "stderr",
     "output_type": "stream",
     "text": [
      "Processing files:   6%|▋         | 3/47 [00:04<01:13,  1.68s/it]"
     ]
    },
    {
     "name": "stdout",
     "output_type": "stream",
     "text": [
      "✅ Updated: data/telugu/train-00036-of-00046.parquet\n"
     ]
    },
    {
     "name": "stderr",
     "output_type": "stream",
     "text": [
      "Processing files:   9%|▊         | 4/47 [00:05<01:02,  1.46s/it]"
     ]
    },
    {
     "name": "stdout",
     "output_type": "stream",
     "text": [
      "✅ Updated: data/telugu/train-00008-of-00046.parquet\n"
     ]
    },
    {
     "name": "stderr",
     "output_type": "stream",
     "text": [
      "Processing files:  11%|█         | 5/47 [00:07<01:01,  1.47s/it]"
     ]
    },
    {
     "name": "stdout",
     "output_type": "stream",
     "text": [
      "✅ Updated: data/telugu/train-00029-of-00046.parquet\n"
     ]
    },
    {
     "name": "stderr",
     "output_type": "stream",
     "text": [
      "Processing files:  13%|█▎        | 6/47 [00:08<00:55,  1.35s/it]"
     ]
    },
    {
     "name": "stdout",
     "output_type": "stream",
     "text": [
      "✅ Updated: data/telugu/train-00017-of-00046.parquet\n"
     ]
    },
    {
     "name": "stderr",
     "output_type": "stream",
     "text": [
      "Processing files:  15%|█▍        | 7/47 [00:09<00:51,  1.30s/it]"
     ]
    },
    {
     "name": "stdout",
     "output_type": "stream",
     "text": [
      "✅ Updated: data/telugu/train-00013-of-00046.parquet\n"
     ]
    },
    {
     "name": "stderr",
     "output_type": "stream",
     "text": [
      "Processing files:  17%|█▋        | 8/47 [00:11<00:59,  1.52s/it]"
     ]
    },
    {
     "name": "stdout",
     "output_type": "stream",
     "text": [
      "✅ Updated: data/telugu/train-00032-of-00046.parquet\n"
     ]
    },
    {
     "name": "stderr",
     "output_type": "stream",
     "text": [
      "Processing files:  19%|█▉        | 9/47 [00:12<00:54,  1.43s/it]"
     ]
    },
    {
     "name": "stdout",
     "output_type": "stream",
     "text": [
      "✅ Updated: data/telugu/train-00018-of-00046.parquet\n"
     ]
    },
    {
     "name": "stderr",
     "output_type": "stream",
     "text": [
      "Processing files:  21%|██▏       | 10/47 [00:15<01:00,  1.64s/it]"
     ]
    },
    {
     "name": "stdout",
     "output_type": "stream",
     "text": [
      "✅ Updated: data/telugu/train-00026-of-00046.parquet\n"
     ]
    },
    {
     "name": "stderr",
     "output_type": "stream",
     "text": [
      "Processing files:  23%|██▎       | 11/47 [00:16<01:00,  1.68s/it]"
     ]
    },
    {
     "name": "stdout",
     "output_type": "stream",
     "text": [
      "✅ Updated: data/telugu/train-00043-of-00046.parquet\n"
     ]
    },
    {
     "name": "stderr",
     "output_type": "stream",
     "text": [
      "Processing files:  26%|██▌       | 12/47 [00:17<00:48,  1.40s/it]"
     ]
    },
    {
     "name": "stdout",
     "output_type": "stream",
     "text": [
      "✅ Updated: data/telugu/valid-00000-of-00001.parquet\n"
     ]
    },
    {
     "name": "stderr",
     "output_type": "stream",
     "text": [
      "Processing files:  28%|██▊       | 13/47 [00:18<00:44,  1.32s/it]"
     ]
    },
    {
     "name": "stdout",
     "output_type": "stream",
     "text": [
      "✅ Updated: data/telugu/train-00007-of-00046.parquet\n"
     ]
    },
    {
     "name": "stderr",
     "output_type": "stream",
     "text": [
      "Processing files:  30%|██▉       | 14/47 [00:20<00:50,  1.54s/it]"
     ]
    },
    {
     "name": "stdout",
     "output_type": "stream",
     "text": [
      "✅ Updated: data/telugu/train-00039-of-00046.parquet\n"
     ]
    },
    {
     "name": "stderr",
     "output_type": "stream",
     "text": [
      "Processing files:  32%|███▏      | 15/47 [00:22<00:48,  1.51s/it]"
     ]
    },
    {
     "name": "stdout",
     "output_type": "stream",
     "text": [
      "✅ Updated: data/telugu/train-00023-of-00046.parquet\n"
     ]
    },
    {
     "name": "stderr",
     "output_type": "stream",
     "text": [
      "Processing files:  34%|███▍      | 16/47 [00:23<00:42,  1.38s/it]"
     ]
    },
    {
     "name": "stdout",
     "output_type": "stream",
     "text": [
      "✅ Updated: data/telugu/train-00002-of-00046.parquet\n"
     ]
    },
    {
     "name": "stderr",
     "output_type": "stream",
     "text": [
      "Processing files:  36%|███▌      | 17/47 [00:25<00:44,  1.48s/it]"
     ]
    },
    {
     "name": "stdout",
     "output_type": "stream",
     "text": [
      "✅ Updated: data/telugu/train-00028-of-00046.parquet\n"
     ]
    },
    {
     "name": "stderr",
     "output_type": "stream",
     "text": [
      "Processing files:  38%|███▊      | 18/47 [00:26<00:42,  1.47s/it]"
     ]
    },
    {
     "name": "stdout",
     "output_type": "stream",
     "text": [
      "✅ Updated: data/telugu/train-00016-of-00046.parquet\n"
     ]
    },
    {
     "name": "stderr",
     "output_type": "stream",
     "text": [
      "Processing files:  40%|████      | 19/47 [00:28<00:44,  1.59s/it]"
     ]
    },
    {
     "name": "stdout",
     "output_type": "stream",
     "text": [
      "✅ Updated: data/telugu/train-00037-of-00046.parquet\n"
     ]
    },
    {
     "name": "stderr",
     "output_type": "stream",
     "text": [
      "Processing files:  43%|████▎     | 20/47 [00:29<00:39,  1.48s/it]"
     ]
    },
    {
     "name": "stdout",
     "output_type": "stream",
     "text": [
      "✅ Updated: data/telugu/train-00009-of-00046.parquet\n"
     ]
    },
    {
     "name": "stderr",
     "output_type": "stream",
     "text": [
      "Processing files:  45%|████▍     | 21/47 [00:31<00:42,  1.65s/it]"
     ]
    },
    {
     "name": "stdout",
     "output_type": "stream",
     "text": [
      "✅ Updated: data/telugu/train-00033-of-00046.parquet\n"
     ]
    },
    {
     "name": "stderr",
     "output_type": "stream",
     "text": [
      "Processing files:  47%|████▋     | 22/47 [00:32<00:37,  1.50s/it]"
     ]
    },
    {
     "name": "stdout",
     "output_type": "stream",
     "text": [
      "✅ Updated: data/telugu/train-00012-of-00046.parquet\n"
     ]
    },
    {
     "name": "stderr",
     "output_type": "stream",
     "text": [
      "Processing files:  49%|████▉     | 23/47 [00:34<00:35,  1.47s/it]"
     ]
    },
    {
     "name": "stdout",
     "output_type": "stream",
     "text": [
      "✅ Updated: data/telugu/train-00006-of-00046.parquet\n"
     ]
    },
    {
     "name": "stderr",
     "output_type": "stream",
     "text": [
      "Processing files:  51%|█████     | 24/47 [00:36<00:38,  1.69s/it]"
     ]
    },
    {
     "name": "stdout",
     "output_type": "stream",
     "text": [
      "✅ Updated: data/telugu/train-00038-of-00046.parquet\n"
     ]
    },
    {
     "name": "stderr",
     "output_type": "stream",
     "text": [
      "Processing files:  53%|█████▎    | 25/47 [00:38<00:41,  1.90s/it]"
     ]
    },
    {
     "name": "stdout",
     "output_type": "stream",
     "text": [
      "✅ Updated: data/telugu/train-00042-of-00046.parquet\n"
     ]
    },
    {
     "name": "stderr",
     "output_type": "stream",
     "text": [
      "Processing files:  55%|█████▌    | 26/47 [00:39<00:35,  1.67s/it]"
     ]
    },
    {
     "name": "stdout",
     "output_type": "stream",
     "text": [
      "✅ Updated: data/telugu/train-00019-of-00046.parquet\n"
     ]
    },
    {
     "name": "stderr",
     "output_type": "stream",
     "text": [
      "Processing files:  57%|█████▋    | 27/47 [00:41<00:32,  1.64s/it]"
     ]
    },
    {
     "name": "stdout",
     "output_type": "stream",
     "text": [
      "✅ Updated: data/telugu/train-00027-of-00046.parquet\n"
     ]
    },
    {
     "name": "stderr",
     "output_type": "stream",
     "text": [
      "Processing files:  60%|█████▉    | 28/47 [00:42<00:28,  1.50s/it]"
     ]
    },
    {
     "name": "stdout",
     "output_type": "stream",
     "text": [
      "✅ Updated: data/telugu/train-00015-of-00046.parquet\n"
     ]
    },
    {
     "name": "stderr",
     "output_type": "stream",
     "text": [
      "Processing files:  62%|██████▏   | 29/47 [00:44<00:28,  1.59s/it]"
     ]
    },
    {
     "name": "stdout",
     "output_type": "stream",
     "text": [
      "✅ Updated: data/telugu/train-00034-of-00046.parquet\n"
     ]
    },
    {
     "name": "stderr",
     "output_type": "stream",
     "text": [
      "Processing files:  64%|██████▍   | 30/47 [00:46<00:28,  1.70s/it]"
     ]
    },
    {
     "name": "stdout",
     "output_type": "stream",
     "text": [
      "✅ Updated: data/telugu/train-00045-of-00046.parquet\n"
     ]
    },
    {
     "name": "stderr",
     "output_type": "stream",
     "text": [
      "Processing files:  66%|██████▌   | 31/47 [00:47<00:26,  1.65s/it]"
     ]
    },
    {
     "name": "stdout",
     "output_type": "stream",
     "text": [
      "✅ Updated: data/telugu/train-00020-of-00046.parquet\n"
     ]
    },
    {
     "name": "stderr",
     "output_type": "stream",
     "text": [
      "Processing files:  68%|██████▊   | 32/47 [00:49<00:24,  1.63s/it]"
     ]
    },
    {
     "name": "stdout",
     "output_type": "stream",
     "text": [
      "✅ Updated: data/telugu/train-00001-of-00046.parquet\n"
     ]
    },
    {
     "name": "stderr",
     "output_type": "stream",
     "text": [
      "Processing files:  70%|███████   | 33/47 [00:51<00:22,  1.59s/it]"
     ]
    },
    {
     "name": "stdout",
     "output_type": "stream",
     "text": [
      "✅ Updated: data/telugu/train-00005-of-00046.parquet\n"
     ]
    },
    {
     "name": "stderr",
     "output_type": "stream",
     "text": [
      "Processing files:  72%|███████▏  | 34/47 [00:53<00:22,  1.73s/it]"
     ]
    },
    {
     "name": "stdout",
     "output_type": "stream",
     "text": [
      "✅ Updated: data/telugu/train-00041-of-00046.parquet\n"
     ]
    },
    {
     "name": "stderr",
     "output_type": "stream",
     "text": [
      "Processing files:  74%|███████▍  | 35/47 [00:54<00:21,  1.79s/it]"
     ]
    },
    {
     "name": "stdout",
     "output_type": "stream",
     "text": [
      "✅ Updated: data/telugu/train-00024-of-00046.parquet\n"
     ]
    },
    {
     "name": "stderr",
     "output_type": "stream",
     "text": [
      "Processing files:  77%|███████▋  | 36/47 [00:56<00:18,  1.68s/it]"
     ]
    },
    {
     "name": "stdout",
     "output_type": "stream",
     "text": [
      "✅ Updated: data/telugu/train-00030-of-00046.parquet\n"
     ]
    },
    {
     "name": "stderr",
     "output_type": "stream",
     "text": [
      "Processing files:  79%|███████▊  | 37/47 [00:57<00:14,  1.48s/it]"
     ]
    },
    {
     "name": "stdout",
     "output_type": "stream",
     "text": [
      "✅ Updated: data/telugu/train-00011-of-00046.parquet\n"
     ]
    },
    {
     "name": "stderr",
     "output_type": "stream",
     "text": [
      "Processing files:  81%|████████  | 38/47 [00:59<00:15,  1.77s/it]"
     ]
    },
    {
     "name": "stdout",
     "output_type": "stream",
     "text": [
      "✅ Updated: data/telugu/train-00035-of-00046.parquet\n"
     ]
    },
    {
     "name": "stderr",
     "output_type": "stream",
     "text": [
      "Processing files:  83%|████████▎ | 39/47 [01:00<00:12,  1.57s/it]"
     ]
    },
    {
     "name": "stdout",
     "output_type": "stream",
     "text": [
      "✅ Updated: data/telugu/train-00014-of-00046.parquet\n"
     ]
    },
    {
     "name": "stderr",
     "output_type": "stream",
     "text": [
      "Processing files:  85%|████████▌ | 40/47 [01:02<00:10,  1.43s/it]"
     ]
    },
    {
     "name": "stdout",
     "output_type": "stream",
     "text": [
      "✅ Updated: data/telugu/train-00000-of-00046.parquet\n"
     ]
    },
    {
     "name": "stderr",
     "output_type": "stream",
     "text": [
      "Processing files:  87%|████████▋ | 41/47 [01:03<00:08,  1.36s/it]"
     ]
    },
    {
     "name": "stdout",
     "output_type": "stream",
     "text": [
      "✅ Updated: data/telugu/train-00021-of-00046.parquet\n"
     ]
    },
    {
     "name": "stderr",
     "output_type": "stream",
     "text": [
      "Processing files:  89%|████████▉ | 42/47 [01:05<00:07,  1.47s/it]"
     ]
    },
    {
     "name": "stdout",
     "output_type": "stream",
     "text": [
      "✅ Updated: data/telugu/train-00044-of-00046.parquet\n"
     ]
    },
    {
     "name": "stderr",
     "output_type": "stream",
     "text": [
      "Processing files:  91%|█████████▏| 43/47 [01:07<00:06,  1.63s/it]"
     ]
    },
    {
     "name": "stdout",
     "output_type": "stream",
     "text": [
      "✅ Updated: data/telugu/train-00025-of-00046.parquet\n"
     ]
    },
    {
     "name": "stderr",
     "output_type": "stream",
     "text": [
      "Processing files:  94%|█████████▎| 44/47 [01:09<00:05,  1.74s/it]"
     ]
    },
    {
     "name": "stdout",
     "output_type": "stream",
     "text": [
      "✅ Updated: data/telugu/train-00040-of-00046.parquet\n"
     ]
    },
    {
     "name": "stderr",
     "output_type": "stream",
     "text": [
      "Processing files:  96%|█████████▌| 45/47 [01:10<00:03,  1.57s/it]"
     ]
    },
    {
     "name": "stdout",
     "output_type": "stream",
     "text": [
      "✅ Updated: data/telugu/train-00004-of-00046.parquet\n"
     ]
    },
    {
     "name": "stderr",
     "output_type": "stream",
     "text": [
      "Processing files:  98%|█████████▊| 46/47 [01:11<00:01,  1.42s/it]"
     ]
    },
    {
     "name": "stdout",
     "output_type": "stream",
     "text": [
      "✅ Updated: data/telugu/train-00010-of-00046.parquet\n"
     ]
    },
    {
     "name": "stderr",
     "output_type": "stream",
     "text": [
      "Processing files: 100%|██████████| 47/47 [01:12<00:00,  1.55s/it]"
     ]
    },
    {
     "name": "stdout",
     "output_type": "stream",
     "text": [
      "✅ Updated: data/telugu/train-00031-of-00046.parquet\n"
     ]
    },
    {
     "name": "stderr",
     "output_type": "stream",
     "text": [
      "\n"
     ]
    }
   ],
   "source": [
    "import os\n",
    "import pandas as pd\n",
    "from tqdm import tqdm\n",
    "\n",
    "# Directory containing the Parquet files\n",
    "input_dir = \"data/telugu\"\n",
    "\n",
    "# Columns to group by\n",
    "group_columns = ['speaker_id', 'scenario', 'task_name', 'gender',\n",
    "                 'age_group', 'job_type', 'qualification', 'area',\n",
    "                 'district', 'state', 'occupation']\n",
    "\n",
    "# List all .parquet files in the directory\n",
    "parquet_files = [f for f in os.listdir(input_dir) if f.endswith('.parquet')]\n",
    "\n",
    "for file in tqdm(parquet_files, desc=\"Processing files\"):\n",
    "    file_path = os.path.join(input_dir, file)\n",
    "    \n",
    "    # Load DataFrame\n",
    "    df = pd.read_parquet(file_path)\n",
    "    \n",
    "    # Initialize new columns\n",
    "    df['file'] = 0\n",
    "    df['segment'] = 0\n",
    "\n",
    "    # Counters\n",
    "    file_num = 1\n",
    "    segment_num = 1\n",
    "\n",
    "    # Assign file and segment numbers\n",
    "    for i in range(len(df)):\n",
    "        df.at[i, 'file'] = file_num\n",
    "        df.at[i, 'segment'] = segment_num\n",
    "\n",
    "        if i < len(df) - 1:\n",
    "            same_group = all(df.at[i, col] == df.at[i+1, col] for col in group_columns)\n",
    "            if same_group:\n",
    "                segment_num += 1\n",
    "            else:\n",
    "                file_num += 1\n",
    "                segment_num = 1\n",
    "\n",
    "    # Overwrite the same file\n",
    "    df.to_parquet(file_path, index=False)\n",
    "\n",
    "    print(f\"✅ Updated: {file_path}\")\n"
   ]
  },
  {
   "cell_type": "code",
   "execution_count": 164,
   "id": "5401d9c9",
   "metadata": {
    "vscode": {
     "languageId": "ruby"
    }
   },
   "outputs": [
    {
     "name": "stdout",
     "output_type": "stream",
     "text": [
      "\n",
      "Processing: data/telugu/train-00003-of-00046.parquet\n",
      "Max file number in train-00003-of-00046.parquet: 1050\n",
      "\n",
      "Processing: data/telugu/train-00022-of-00046.parquet\n",
      "Max file number in train-00022-of-00046.parquet: 929\n",
      "\n",
      "Processing: data/telugu/train-00036-of-00046.parquet\n",
      "Max file number in train-00036-of-00046.parquet: 603\n",
      "\n",
      "Processing: data/telugu/train-00008-of-00046.parquet\n",
      "Max file number in train-00008-of-00046.parquet: 1025\n",
      "\n",
      "Processing: data/telugu/train-00029-of-00046.parquet\n",
      "Max file number in train-00029-of-00046.parquet: 825\n",
      "\n",
      "Processing: data/telugu/train-00017-of-00046.parquet\n",
      "Max file number in train-00017-of-00046.parquet: 1076\n",
      "\n",
      "Processing: data/telugu/train-00013-of-00046.parquet\n",
      "Max file number in train-00013-of-00046.parquet: 1018\n",
      "\n",
      "Processing: data/telugu/train-00032-of-00046.parquet\n",
      "Max file number in train-00032-of-00046.parquet: 837\n",
      "\n",
      "Processing: data/telugu/train-00018-of-00046.parquet\n",
      "Max file number in train-00018-of-00046.parquet: 962\n",
      "\n",
      "Processing: data/telugu/train-00026-of-00046.parquet\n",
      "Max file number in train-00026-of-00046.parquet: 739\n",
      "\n",
      "Processing: data/telugu/train-00043-of-00046.parquet\n",
      "Max file number in train-00043-of-00046.parquet: 1022\n",
      "\n",
      "Processing: data/telugu/valid-00000-of-00001.parquet\n",
      "Max file number in valid-00000-of-00001.parquet: 290\n",
      "\n",
      "Processing: data/telugu/train-00007-of-00046.parquet\n",
      "Max file number in train-00007-of-00046.parquet: 1090\n",
      "\n",
      "Processing: data/telugu/train-00039-of-00046.parquet\n",
      "Max file number in train-00039-of-00046.parquet: 570\n",
      "\n",
      "Processing: data/telugu/train-00023-of-00046.parquet\n",
      "Max file number in train-00023-of-00046.parquet: 825\n",
      "\n",
      "Processing: data/telugu/train-00002-of-00046.parquet\n",
      "Max file number in train-00002-of-00046.parquet: 1001\n",
      "\n",
      "Processing: data/telugu/train-00028-of-00046.parquet\n",
      "Max file number in train-00028-of-00046.parquet: 741\n",
      "\n",
      "Processing: data/telugu/train-00016-of-00046.parquet\n",
      "Max file number in train-00016-of-00046.parquet: 1095\n",
      "\n",
      "Processing: data/telugu/train-00037-of-00046.parquet\n",
      "Max file number in train-00037-of-00046.parquet: 692\n",
      "\n",
      "Processing: data/telugu/train-00009-of-00046.parquet\n",
      "Max file number in train-00009-of-00046.parquet: 933\n",
      "\n",
      "Processing: data/telugu/train-00033-of-00046.parquet\n",
      "Max file number in train-00033-of-00046.parquet: 662\n",
      "\n",
      "Processing: data/telugu/train-00012-of-00046.parquet\n",
      "Max file number in train-00012-of-00046.parquet: 1039\n",
      "\n",
      "Processing: data/telugu/train-00006-of-00046.parquet\n",
      "Max file number in train-00006-of-00046.parquet: 1061\n",
      "\n",
      "Processing: data/telugu/train-00038-of-00046.parquet\n",
      "Max file number in train-00038-of-00046.parquet: 673\n",
      "\n",
      "Processing: data/telugu/train-00042-of-00046.parquet\n",
      "Max file number in train-00042-of-00046.parquet: 737\n",
      "\n",
      "Processing: data/telugu/train-00019-of-00046.parquet\n",
      "Max file number in train-00019-of-00046.parquet: 903\n",
      "\n",
      "Processing: data/telugu/train-00027-of-00046.parquet\n",
      "Max file number in train-00027-of-00046.parquet: 773\n",
      "\n",
      "Processing: data/telugu/train-00015-of-00046.parquet\n",
      "Max file number in train-00015-of-00046.parquet: 1015\n",
      "\n",
      "Processing: data/telugu/train-00034-of-00046.parquet\n",
      "Max file number in train-00034-of-00046.parquet: 540\n",
      "\n",
      "Processing: data/telugu/train-00045-of-00046.parquet\n",
      "Max file number in train-00045-of-00046.parquet: 1042\n",
      "\n",
      "Processing: data/telugu/train-00020-of-00046.parquet\n",
      "Max file number in train-00020-of-00046.parquet: 1015\n",
      "\n",
      "Processing: data/telugu/train-00001-of-00046.parquet\n",
      "Max file number in train-00001-of-00046.parquet: 1123\n",
      "\n",
      "Processing: data/telugu/train-00005-of-00046.parquet\n",
      "Max file number in train-00005-of-00046.parquet: 996\n",
      "\n",
      "Processing: data/telugu/train-00041-of-00046.parquet\n",
      "Max file number in train-00041-of-00046.parquet: 638\n",
      "\n",
      "Processing: data/telugu/train-00024-of-00046.parquet\n",
      "Max file number in train-00024-of-00046.parquet: 767\n",
      "\n",
      "Processing: data/telugu/train-00030-of-00046.parquet\n",
      "Max file number in train-00030-of-00046.parquet: 794\n",
      "\n",
      "Processing: data/telugu/train-00011-of-00046.parquet\n",
      "Max file number in train-00011-of-00046.parquet: 1052\n",
      "\n",
      "Processing: data/telugu/train-00035-of-00046.parquet\n",
      "Max file number in train-00035-of-00046.parquet: 633\n",
      "\n",
      "Processing: data/telugu/train-00014-of-00046.parquet\n",
      "Max file number in train-00014-of-00046.parquet: 915\n",
      "\n",
      "Processing: data/telugu/train-00000-of-00046.parquet\n",
      "Max file number in train-00000-of-00046.parquet: 1064\n",
      "\n",
      "Processing: data/telugu/train-00021-of-00046.parquet\n",
      "Max file number in train-00021-of-00046.parquet: 990\n",
      "\n",
      "Processing: data/telugu/train-00044-of-00046.parquet\n",
      "Max file number in train-00044-of-00046.parquet: 1065\n",
      "\n",
      "Processing: data/telugu/train-00025-of-00046.parquet\n",
      "Max file number in train-00025-of-00046.parquet: 795\n",
      "\n",
      "Processing: data/telugu/train-00040-of-00046.parquet\n",
      "Max file number in train-00040-of-00046.parquet: 633\n",
      "\n",
      "Processing: data/telugu/train-00004-of-00046.parquet\n",
      "Max file number in train-00004-of-00046.parquet: 933\n",
      "\n",
      "Processing: data/telugu/train-00010-of-00046.parquet\n",
      "Max file number in train-00010-of-00046.parquet: 1038\n",
      "\n",
      "Processing: data/telugu/train-00031-of-00046.parquet\n",
      "Max file number in train-00031-of-00046.parquet: 687\n"
     ]
    }
   ],
   "source": [
    "# print the max file number for all files\n",
    "for root, _, files in os.walk(input_dir):\n",
    "    for file in files:\n",
    "        if file.endswith(\".parquet\"):\n",
    "            file_path = os.path.join(root, file)\n",
    "            print(f\"\\nProcessing: {file_path}\")\n",
    "\n",
    "            try:\n",
    "                df = pd.read_parquet(file_path)\n",
    "                print(f\"Max file number in {file}: {df['file'].max()}\")\n",
    "            except Exception as e:\n",
    "                print(f\"Error processing {file}: {e}\")"
   ]
  },
  {
   "cell_type": "code",
   "execution_count": 169,
   "id": "12d46342",
   "metadata": {
    "vscode": {
     "languageId": "ruby"
    }
   },
   "outputs": [
    {
     "name": "stdout",
     "output_type": "stream",
     "text": [
      "Renamed: data/telugu/train-00000-of-00046.parquet -> data/telugu/1.parquet\n",
      "Renamed: data/telugu/train-00001-of-00046.parquet -> data/telugu/2.parquet\n",
      "Renamed: data/telugu/train-00002-of-00046.parquet -> data/telugu/3.parquet\n",
      "Renamed: data/telugu/train-00003-of-00046.parquet -> data/telugu/4.parquet\n",
      "Renamed: data/telugu/train-00004-of-00046.parquet -> data/telugu/5.parquet\n",
      "Renamed: data/telugu/train-00005-of-00046.parquet -> data/telugu/6.parquet\n",
      "Renamed: data/telugu/train-00006-of-00046.parquet -> data/telugu/7.parquet\n",
      "Renamed: data/telugu/train-00007-of-00046.parquet -> data/telugu/8.parquet\n",
      "Renamed: data/telugu/train-00008-of-00046.parquet -> data/telugu/9.parquet\n",
      "Renamed: data/telugu/train-00009-of-00046.parquet -> data/telugu/10.parquet\n",
      "Renamed: data/telugu/train-00010-of-00046.parquet -> data/telugu/11.parquet\n",
      "Renamed: data/telugu/train-00011-of-00046.parquet -> data/telugu/12.parquet\n",
      "Renamed: data/telugu/train-00012-of-00046.parquet -> data/telugu/13.parquet\n",
      "Renamed: data/telugu/train-00013-of-00046.parquet -> data/telugu/14.parquet\n",
      "Renamed: data/telugu/train-00014-of-00046.parquet -> data/telugu/15.parquet\n",
      "Renamed: data/telugu/train-00015-of-00046.parquet -> data/telugu/16.parquet\n",
      "Renamed: data/telugu/train-00016-of-00046.parquet -> data/telugu/17.parquet\n",
      "Renamed: data/telugu/train-00017-of-00046.parquet -> data/telugu/18.parquet\n",
      "Renamed: data/telugu/train-00018-of-00046.parquet -> data/telugu/19.parquet\n",
      "Renamed: data/telugu/train-00019-of-00046.parquet -> data/telugu/20.parquet\n",
      "Renamed: data/telugu/train-00020-of-00046.parquet -> data/telugu/21.parquet\n",
      "Renamed: data/telugu/train-00021-of-00046.parquet -> data/telugu/22.parquet\n",
      "Renamed: data/telugu/train-00022-of-00046.parquet -> data/telugu/23.parquet\n",
      "Renamed: data/telugu/train-00023-of-00046.parquet -> data/telugu/24.parquet\n",
      "Renamed: data/telugu/train-00024-of-00046.parquet -> data/telugu/25.parquet\n",
      "Renamed: data/telugu/train-00025-of-00046.parquet -> data/telugu/26.parquet\n",
      "Renamed: data/telugu/train-00026-of-00046.parquet -> data/telugu/27.parquet\n",
      "Renamed: data/telugu/train-00027-of-00046.parquet -> data/telugu/28.parquet\n",
      "Renamed: data/telugu/train-00028-of-00046.parquet -> data/telugu/29.parquet\n",
      "Renamed: data/telugu/train-00029-of-00046.parquet -> data/telugu/30.parquet\n",
      "Renamed: data/telugu/train-00030-of-00046.parquet -> data/telugu/31.parquet\n",
      "Renamed: data/telugu/train-00031-of-00046.parquet -> data/telugu/32.parquet\n",
      "Renamed: data/telugu/train-00032-of-00046.parquet -> data/telugu/33.parquet\n",
      "Renamed: data/telugu/train-00033-of-00046.parquet -> data/telugu/34.parquet\n",
      "Renamed: data/telugu/train-00034-of-00046.parquet -> data/telugu/35.parquet\n",
      "Renamed: data/telugu/train-00035-of-00046.parquet -> data/telugu/36.parquet\n",
      "Renamed: data/telugu/train-00036-of-00046.parquet -> data/telugu/37.parquet\n",
      "Renamed: data/telugu/train-00037-of-00046.parquet -> data/telugu/38.parquet\n",
      "Renamed: data/telugu/train-00038-of-00046.parquet -> data/telugu/39.parquet\n",
      "Renamed: data/telugu/train-00039-of-00046.parquet -> data/telugu/40.parquet\n",
      "Renamed: data/telugu/train-00040-of-00046.parquet -> data/telugu/41.parquet\n",
      "Renamed: data/telugu/train-00041-of-00046.parquet -> data/telugu/42.parquet\n",
      "Renamed: data/telugu/train-00042-of-00046.parquet -> data/telugu/43.parquet\n",
      "Renamed: data/telugu/train-00043-of-00046.parquet -> data/telugu/44.parquet\n",
      "Renamed: data/telugu/train-00044-of-00046.parquet -> data/telugu/45.parquet\n",
      "Renamed: data/telugu/train-00045-of-00046.parquet -> data/telugu/46.parquet\n",
      "Renamed: data/telugu/valid-00000-of-00001.parquet -> data/telugu/47.parquet\n"
     ]
    }
   ],
   "source": [
    "# Rename all parquet files in data/telugu from 1.parquet to n.parquet\n",
    "import os\n",
    "directory = \"data/telugu\"\n",
    "files = [f for f in os.listdir(directory) if f.endswith('.parquet')]\n",
    "for index, file in enumerate(sorted(files), start=1):\n",
    "    old_path = os.path.join(directory, file)\n",
    "    new_filename = f\"{index}.parquet\"\n",
    "    new_path = os.path.join(directory, new_filename)\n",
    "    os.rename(old_path, new_path)\n",
    "    print(f\"Renamed: {old_path} -> {new_path}\")"
   ]
  },
  {
   "cell_type": "code",
   "execution_count": 1,
   "id": "5668958d",
   "metadata": {
    "vscode": {
     "languageId": "ruby"
    }
   },
   "outputs": [
    {
     "name": "stdout",
     "output_type": "stream",
     "text": [
      "📄 Processing: data/telugu/8.parquet\n"
     ]
    },
    {
     "name": "stderr",
     "output_type": "stream",
     "text": [
      "Saving from 8: 100%|██████████| 4776/4776 [00:00<00:00, 8865.54it/s]\n"
     ]
    },
    {
     "name": "stdout",
     "output_type": "stream",
     "text": [
      "📄 Processing: data/telugu/34.parquet\n"
     ]
    },
    {
     "name": "stderr",
     "output_type": "stream",
     "text": [
      "Saving from 34: 100%|██████████| 4776/4776 [00:00<00:00, 8049.49it/s]\n"
     ]
    },
    {
     "name": "stdout",
     "output_type": "stream",
     "text": [
      "📄 Processing: data/telugu/24.parquet\n"
     ]
    },
    {
     "name": "stderr",
     "output_type": "stream",
     "text": [
      "Saving from 24: 100%|██████████| 4776/4776 [00:00<00:00, 8176.68it/s]\n"
     ]
    },
    {
     "name": "stdout",
     "output_type": "stream",
     "text": [
      "📄 Processing: data/telugu/46.parquet\n"
     ]
    },
    {
     "name": "stderr",
     "output_type": "stream",
     "text": [
      "Saving from 46: 100%|██████████| 4776/4776 [00:00<00:00, 8483.12it/s]\n"
     ]
    },
    {
     "name": "stdout",
     "output_type": "stream",
     "text": [
      "📄 Processing: data/telugu/1.parquet\n"
     ]
    },
    {
     "name": "stderr",
     "output_type": "stream",
     "text": [
      "Saving from 1: 100%|██████████| 4777/4777 [00:00<00:00, 7731.14it/s]\n"
     ]
    },
    {
     "name": "stdout",
     "output_type": "stream",
     "text": [
      "📄 Processing: data/telugu/12.parquet\n"
     ]
    },
    {
     "name": "stderr",
     "output_type": "stream",
     "text": [
      "Saving from 12: 100%|██████████| 4776/4776 [00:00<00:00, 8062.95it/s]\n"
     ]
    },
    {
     "name": "stdout",
     "output_type": "stream",
     "text": [
      "📄 Processing: data/telugu/13.parquet\n"
     ]
    },
    {
     "name": "stderr",
     "output_type": "stream",
     "text": [
      "Saving from 13: 100%|██████████| 4776/4776 [00:00<00:00, 5477.59it/s]\n"
     ]
    },
    {
     "name": "stdout",
     "output_type": "stream",
     "text": [
      "📄 Processing: data/telugu/9.parquet\n"
     ]
    },
    {
     "name": "stderr",
     "output_type": "stream",
     "text": [
      "Saving from 9: 100%|██████████| 4776/4776 [00:00<00:00, 8198.76it/s]\n"
     ]
    },
    {
     "name": "stdout",
     "output_type": "stream",
     "text": [
      "📄 Processing: data/telugu/25.parquet\n"
     ]
    },
    {
     "name": "stderr",
     "output_type": "stream",
     "text": [
      "Saving from 25: 100%|██████████| 4776/4776 [00:00<00:00, 8626.73it/s]\n"
     ]
    },
    {
     "name": "stdout",
     "output_type": "stream",
     "text": [
      "📄 Processing: data/telugu/35.parquet\n"
     ]
    },
    {
     "name": "stderr",
     "output_type": "stream",
     "text": [
      "Saving from 35: 100%|██████████| 4776/4776 [00:00<00:00, 6518.17it/s]\n"
     ]
    },
    {
     "name": "stdout",
     "output_type": "stream",
     "text": [
      "📄 Processing: data/telugu/47.parquet\n"
     ]
    },
    {
     "name": "stderr",
     "output_type": "stream",
     "text": [
      "Saving from 47: 100%|██████████| 2629/2629 [00:00<00:00, 7732.44it/s]\n"
     ]
    },
    {
     "name": "stdout",
     "output_type": "stream",
     "text": [
      "📄 Processing: data/telugu/11.parquet\n"
     ]
    },
    {
     "name": "stderr",
     "output_type": "stream",
     "text": [
      "Saving from 11: 100%|██████████| 4776/4776 [00:00<00:00, 8683.32it/s]\n"
     ]
    },
    {
     "name": "stdout",
     "output_type": "stream",
     "text": [
      "📄 Processing: data/telugu/2.parquet\n"
     ]
    },
    {
     "name": "stderr",
     "output_type": "stream",
     "text": [
      "Saving from 2: 100%|██████████| 4777/4777 [00:00<00:00, 7316.35it/s]\n"
     ]
    },
    {
     "name": "stdout",
     "output_type": "stream",
     "text": [
      "📄 Processing: data/telugu/18.parquet\n"
     ]
    },
    {
     "name": "stderr",
     "output_type": "stream",
     "text": [
      "Saving from 18: 100%|██████████| 4776/4776 [00:00<00:00, 6253.90it/s]\n"
     ]
    },
    {
     "name": "stdout",
     "output_type": "stream",
     "text": [
      "📄 Processing: data/telugu/45.parquet\n"
     ]
    },
    {
     "name": "stderr",
     "output_type": "stream",
     "text": [
      "Saving from 45: 100%|██████████| 4776/4776 [00:01<00:00, 4473.27it/s]\n"
     ]
    },
    {
     "name": "stdout",
     "output_type": "stream",
     "text": [
      "📄 Processing: data/telugu/37.parquet\n"
     ]
    },
    {
     "name": "stderr",
     "output_type": "stream",
     "text": [
      "Saving from 37: 100%|██████████| 4776/4776 [00:00<00:00, 6178.61it/s]\n"
     ]
    },
    {
     "name": "stdout",
     "output_type": "stream",
     "text": [
      "📄 Processing: data/telugu/27.parquet\n"
     ]
    },
    {
     "name": "stderr",
     "output_type": "stream",
     "text": [
      "Saving from 27: 100%|██████████| 4776/4776 [00:00<00:00, 6856.13it/s]\n"
     ]
    },
    {
     "name": "stdout",
     "output_type": "stream",
     "text": [
      "📄 Processing: data/telugu/19.parquet\n"
     ]
    },
    {
     "name": "stderr",
     "output_type": "stream",
     "text": [
      "Saving from 19: 100%|██████████| 4776/4776 [00:00<00:00, 7545.56it/s]\n"
     ]
    },
    {
     "name": "stdout",
     "output_type": "stream",
     "text": [
      "📄 Processing: data/telugu/44.parquet\n"
     ]
    },
    {
     "name": "stderr",
     "output_type": "stream",
     "text": [
      "Saving from 44: 100%|██████████| 4776/4776 [00:00<00:00, 6805.12it/s]\n"
     ]
    },
    {
     "name": "stdout",
     "output_type": "stream",
     "text": [
      "📄 Processing: data/telugu/26.parquet\n"
     ]
    },
    {
     "name": "stderr",
     "output_type": "stream",
     "text": [
      "Saving from 26: 100%|██████████| 4776/4776 [00:00<00:00, 6519.93it/s]\n"
     ]
    },
    {
     "name": "stdout",
     "output_type": "stream",
     "text": [
      "📄 Processing: data/telugu/36.parquet\n"
     ]
    },
    {
     "name": "stderr",
     "output_type": "stream",
     "text": [
      "Saving from 36: 100%|██████████| 4776/4776 [00:01<00:00, 4234.18it/s]\n"
     ]
    },
    {
     "name": "stdout",
     "output_type": "stream",
     "text": [
      "📄 Processing: data/telugu/10.parquet\n"
     ]
    },
    {
     "name": "stderr",
     "output_type": "stream",
     "text": [
      "Saving from 10: 100%|██████████| 4776/4776 [00:00<00:00, 6659.78it/s]\n"
     ]
    },
    {
     "name": "stdout",
     "output_type": "stream",
     "text": [
      "📄 Processing: data/telugu/3.parquet\n"
     ]
    },
    {
     "name": "stderr",
     "output_type": "stream",
     "text": [
      "Saving from 3: 100%|██████████| 4777/4777 [00:00<00:00, 7199.32it/s]\n"
     ]
    },
    {
     "name": "stdout",
     "output_type": "stream",
     "text": [
      "📄 Processing: data/telugu/15.parquet\n"
     ]
    },
    {
     "name": "stderr",
     "output_type": "stream",
     "text": [
      "Saving from 15: 100%|██████████| 4776/4776 [00:00<00:00, 6519.32it/s]\n"
     ]
    },
    {
     "name": "stdout",
     "output_type": "stream",
     "text": [
      "📄 Processing: data/telugu/6.parquet\n"
     ]
    },
    {
     "name": "stderr",
     "output_type": "stream",
     "text": [
      "Saving from 6: 100%|██████████| 4777/4777 [00:00<00:00, 7263.07it/s]\n"
     ]
    },
    {
     "name": "stdout",
     "output_type": "stream",
     "text": [
      "📄 Processing: data/telugu/41.parquet\n"
     ]
    },
    {
     "name": "stderr",
     "output_type": "stream",
     "text": [
      "Saving from 41: 100%|██████████| 4776/4776 [00:00<00:00, 6705.49it/s]\n"
     ]
    },
    {
     "name": "stdout",
     "output_type": "stream",
     "text": [
      "📄 Processing: data/telugu/33.parquet\n"
     ]
    },
    {
     "name": "stderr",
     "output_type": "stream",
     "text": [
      "Saving from 33: 100%|██████████| 4776/4776 [00:00<00:00, 7524.90it/s]\n"
     ]
    },
    {
     "name": "stdout",
     "output_type": "stream",
     "text": [
      "📄 Processing: data/telugu/23.parquet\n"
     ]
    },
    {
     "name": "stderr",
     "output_type": "stream",
     "text": [
      "Saving from 23: 100%|██████████| 4776/4776 [00:00<00:00, 7112.11it/s]\n"
     ]
    },
    {
     "name": "stdout",
     "output_type": "stream",
     "text": [
      "📄 Processing: data/telugu/40.parquet\n"
     ]
    },
    {
     "name": "stderr",
     "output_type": "stream",
     "text": [
      "Saving from 40: 100%|██████████| 4776/4776 [00:00<00:00, 6534.72it/s]\n"
     ]
    },
    {
     "name": "stdout",
     "output_type": "stream",
     "text": [
      "📄 Processing: data/telugu/22.parquet\n"
     ]
    },
    {
     "name": "stderr",
     "output_type": "stream",
     "text": [
      "Saving from 22: 100%|██████████| 4776/4776 [00:00<00:00, 6494.43it/s]\n"
     ]
    },
    {
     "name": "stdout",
     "output_type": "stream",
     "text": [
      "📄 Processing: data/telugu/32.parquet\n"
     ]
    },
    {
     "name": "stderr",
     "output_type": "stream",
     "text": [
      "Saving from 32: 100%|██████████| 4776/4776 [00:00<00:00, 7016.36it/s]\n"
     ]
    },
    {
     "name": "stdout",
     "output_type": "stream",
     "text": [
      "📄 Processing: data/telugu/14.parquet\n"
     ]
    },
    {
     "name": "stderr",
     "output_type": "stream",
     "text": [
      "Saving from 14: 100%|██████████| 4776/4776 [00:00<00:00, 6974.40it/s]\n"
     ]
    },
    {
     "name": "stdout",
     "output_type": "stream",
     "text": [
      "📄 Processing: data/telugu/7.parquet\n"
     ]
    },
    {
     "name": "stderr",
     "output_type": "stream",
     "text": [
      "Saving from 7: 100%|██████████| 4776/4776 [00:00<00:00, 7272.24it/s]\n"
     ]
    },
    {
     "name": "stdout",
     "output_type": "stream",
     "text": [
      "📄 Processing: data/telugu/30.parquet\n"
     ]
    },
    {
     "name": "stderr",
     "output_type": "stream",
     "text": [
      "Saving from 30: 100%|██████████| 4776/4776 [00:00<00:00, 6635.09it/s]\n"
     ]
    },
    {
     "name": "stdout",
     "output_type": "stream",
     "text": [
      "📄 Processing: data/telugu/20.parquet\n"
     ]
    },
    {
     "name": "stderr",
     "output_type": "stream",
     "text": [
      "Saving from 20: 100%|██████████| 4776/4776 [00:00<00:00, 5832.46it/s]\n"
     ]
    },
    {
     "name": "stdout",
     "output_type": "stream",
     "text": [
      "📄 Processing: data/telugu/42.parquet\n"
     ]
    },
    {
     "name": "stderr",
     "output_type": "stream",
     "text": [
      "Saving from 42: 100%|██████████| 4776/4776 [00:00<00:00, 5595.06it/s]\n"
     ]
    },
    {
     "name": "stdout",
     "output_type": "stream",
     "text": [
      "📄 Processing: data/telugu/29.parquet\n"
     ]
    },
    {
     "name": "stderr",
     "output_type": "stream",
     "text": [
      "Saving from 29: 100%|██████████| 4776/4776 [00:00<00:00, 6363.54it/s]\n"
     ]
    },
    {
     "name": "stdout",
     "output_type": "stream",
     "text": [
      "📄 Processing: data/telugu/39.parquet\n"
     ]
    },
    {
     "name": "stderr",
     "output_type": "stream",
     "text": [
      "Saving from 39: 100%|██████████| 4776/4776 [00:00<00:00, 6369.33it/s]\n"
     ]
    },
    {
     "name": "stdout",
     "output_type": "stream",
     "text": [
      "📄 Processing: data/telugu/5.parquet\n"
     ]
    },
    {
     "name": "stderr",
     "output_type": "stream",
     "text": [
      "Saving from 5: 100%|██████████| 4777/4777 [00:00<00:00, 6587.37it/s]\n"
     ]
    },
    {
     "name": "stdout",
     "output_type": "stream",
     "text": [
      "📄 Processing: data/telugu/16.parquet\n"
     ]
    },
    {
     "name": "stderr",
     "output_type": "stream",
     "text": [
      "Saving from 16: 100%|██████████| 4776/4776 [00:00<00:00, 6542.89it/s]\n"
     ]
    },
    {
     "name": "stdout",
     "output_type": "stream",
     "text": [
      "📄 Processing: data/telugu/38.parquet\n"
     ]
    },
    {
     "name": "stderr",
     "output_type": "stream",
     "text": [
      "Saving from 38: 100%|██████████| 4776/4776 [00:00<00:00, 6204.49it/s]\n"
     ]
    },
    {
     "name": "stdout",
     "output_type": "stream",
     "text": [
      "📄 Processing: data/telugu/28.parquet\n"
     ]
    },
    {
     "name": "stderr",
     "output_type": "stream",
     "text": [
      "Saving from 28: 100%|██████████| 4776/4776 [00:00<00:00, 6158.33it/s]\n"
     ]
    },
    {
     "name": "stdout",
     "output_type": "stream",
     "text": [
      "📄 Processing: data/telugu/4.parquet\n"
     ]
    },
    {
     "name": "stderr",
     "output_type": "stream",
     "text": [
      "Saving from 4: 100%|██████████| 4777/4777 [00:00<00:00, 6616.85it/s]\n"
     ]
    },
    {
     "name": "stdout",
     "output_type": "stream",
     "text": [
      "📄 Processing: data/telugu/17.parquet\n"
     ]
    },
    {
     "name": "stderr",
     "output_type": "stream",
     "text": [
      "Saving from 17: 100%|██████████| 4776/4776 [00:00<00:00, 7125.63it/s]\n"
     ]
    },
    {
     "name": "stdout",
     "output_type": "stream",
     "text": [
      "📄 Processing: data/telugu/21.parquet\n"
     ]
    },
    {
     "name": "stderr",
     "output_type": "stream",
     "text": [
      "Saving from 21: 100%|██████████| 4776/4776 [00:00<00:00, 7547.77it/s]\n"
     ]
    },
    {
     "name": "stdout",
     "output_type": "stream",
     "text": [
      "📄 Processing: data/telugu/31.parquet\n"
     ]
    },
    {
     "name": "stderr",
     "output_type": "stream",
     "text": [
      "Saving from 31: 100%|██████████| 4776/4776 [00:00<00:00, 6570.31it/s]\n"
     ]
    },
    {
     "name": "stdout",
     "output_type": "stream",
     "text": [
      "📄 Processing: data/telugu/43.parquet\n"
     ]
    },
    {
     "name": "stderr",
     "output_type": "stream",
     "text": [
      "Saving from 43: 100%|██████████| 4776/4776 [00:01<00:00, 3793.21it/s]"
     ]
    },
    {
     "name": "stdout",
     "output_type": "stream",
     "text": [
      "\n",
      "✅ Done. Saved 222331 audio files to 'data/telugu/audio'\n"
     ]
    },
    {
     "name": "stderr",
     "output_type": "stream",
     "text": [
      "\n"
     ]
    }
   ],
   "source": [
    "import os\n",
    "import pandas as pd\n",
    "from glob import glob\n",
    "from tqdm import tqdm\n",
    "\n",
    "# Paths\n",
    "parquet_dir = \"data/telugu\"\n",
    "output_dir = os.path.join(parquet_dir, \"audio\")\n",
    "os.makedirs(output_dir, exist_ok=True)\n",
    "\n",
    "# Get all parquet files\n",
    "parquet_files = glob(os.path.join(parquet_dir, \"*.parquet\"))\n",
    "\n",
    "saved_count = 0\n",
    "\n",
    "for parquet_file in parquet_files:\n",
    "    parquet_basename = os.path.splitext(os.path.basename(parquet_file))[0]\n",
    "\n",
    "    print(f\"📄 Processing: {parquet_file}\")\n",
    "    try:\n",
    "        df = pd.read_parquet(parquet_file)\n",
    "    except Exception as e:\n",
    "        print(f\"⚠️ Could not read {parquet_file}: {e}\")\n",
    "        continue\n",
    "\n",
    "    # Check for necessary columns\n",
    "    if not {'file', 'segment', 'audio_filepath'}.issubset(df.columns):\n",
    "        print(f\"⚠️ Skipping {parquet_file} — missing required columns.\")\n",
    "        continue\n",
    "\n",
    "    # Iterate over each row\n",
    "    for _, row in tqdm(df.iterrows(), total=len(df), desc=f\"Saving from {parquet_basename}\"):\n",
    "        try:\n",
    "            file_id = int(row['file'])\n",
    "            segment_id = int(row['segment'])\n",
    "\n",
    "            audio_data = row['audio_filepath']\n",
    "            if isinstance(audio_data, dict) and 'bytes' in audio_data:\n",
    "                audio_bytes = audio_data['bytes']\n",
    "                filename = f\"{parquet_basename}-{file_id}-{segment_id}.wav\"\n",
    "                output_path = os.path.join(output_dir, filename)\n",
    "\n",
    "                if not os.path.exists(output_path):\n",
    "                    with open(output_path, 'wb') as f:\n",
    "                        f.write(audio_bytes)\n",
    "                    saved_count += 1\n",
    "            else:\n",
    "                print(f\"⚠️ Missing 'bytes' in audio_filepath for file={file_id}, segment={segment_id}\")\n",
    "        except Exception as e:\n",
    "            print(f\"❌ Failed to save audio for file={file_id}, segment={segment_id}: {e}\")\n",
    "\n",
    "print(f\"\\n✅ Done. Saved {saved_count} audio files to '{output_dir}'\")"
   ]
  },
  {
   "cell_type": "code",
   "execution_count": 24,
   "id": "0015f551",
   "metadata": {
    "vscode": {
     "languageId": "ruby"
    }
   },
   "outputs": [],
   "source": [
    "import pandas as pd\n",
    "from IPython.display import Audio, display\n",
    "import io\n",
    "import base64\n",
    "import ast\n",
    "\n",
    "def maxFileCount(parquet_file):\n",
    "    parquet_file = f\"data/telugu/{parquet_file}.parquet\"\n",
    "    try:\n",
    "        df = pd.read_parquet(parquet_file)\n",
    "        if 'file' in df.columns:\n",
    "            return df['file'].max()\n",
    "        print(f\"⚠️ 'file' column not found in {parquet_file}\")\n",
    "    except Exception as e:\n",
    "        print(f\"❌ Error reading {parquet_file}: {e}\")\n",
    "    return None\n",
    "\n",
    "def getFile(parquet_file=1, file_number=1):\n",
    "    parquet_file = f\"data/telugu/{parquet_file}.parquet\"\n",
    "    try:\n",
    "        df = pd.read_parquet(parquet_file)\n",
    "        if {'file', 'unsanitized_normalized'}.issubset(df.columns):\n",
    "            return df[df['file'] == file_number]['unsanitized_normalized'].tolist()\n",
    "        print(f\"⚠️ Required columns not found in {parquet_file}\")\n",
    "    except Exception as e:\n",
    "        print(f\"❌ Error reading {parquet_file}: {e}\")\n",
    "    return []\n",
    "\n",
    "def getAudio(parquet_file=1, file_number=1, segment_number=1):\n",
    "    parquet_file = f\"data/telugu/{parquet_file}.parquet\"\n",
    "    try:\n",
    "        df = pd.read_parquet(parquet_file)\n",
    "        if {'file', 'segment', 'audio_filepath', 'samples'}.issubset(df.columns):\n",
    "            row = df[(df['file'] == file_number) & (df['segment'] == segment_number)]\n",
    "            if not row.empty:\n",
    "                audio_data = row.iloc[0]['audio_filepath']\n",
    "                if isinstance(audio_data, dict) and 'bytes' in audio_data:\n",
    "                    return audio_data['bytes']\n",
    "                print(f\"⚠️ 'bytes' key not found in audio_filepath\")\n",
    "            else:\n",
    "                print(f\"⚠️ No matching file={file_number}, segment={segment_number}\")\n",
    "        else:\n",
    "            print(f\"⚠️ Required columns not found in {parquet_file}\")\n",
    "    except Exception as e:\n",
    "        print(f\"❌ Error reading {parquet_file}: {e}\")\n",
    "    return None\n",
    "\n",
    "def play(audioStr, autoplay=True):\n",
    "    audio_player = Audio(audioStr, autoplay=autoplay, rate=48000)\n",
    "    display(audio_player)\n",
    "\n",
    "def getMetadata(parquet_file=1, file_number=1, segment_number=1, columns=['lang', 'scenario', 'task_name', 'gender', 'age_group', 'area', 'district', 'state']):\n",
    "    parquet_file = f\"data/telugu/{parquet_file}.parquet\"\n",
    "    try:\n",
    "        df = pd.read_parquet(parquet_file)\n",
    "        if {'file', 'segment'}.issubset(df.columns) and all(col in df.columns for col in columns):\n",
    "            row = df[(df['file'] == file_number) & (df['segment'] == segment_number)]\n",
    "            if not row.empty:\n",
    "                metadata = {col: row.iloc[0][col] for col in columns}\n",
    "                return metadata\n",
    "            print(f\"⚠️ No matching file={file_number}, segment={segment_number}\")\n",
    "        else:\n",
    "            print(f\"⚠️ Required columns not found in {parquet_file}\")\n",
    "    except Exception as e:\n",
    "        print(f\"❌ Error reading {parquet_file}: {e}\")\n",
    "    return {}"
   ]
  },
  {
   "cell_type": "code",
   "execution_count": 25,
   "id": "a57bfdd7",
   "metadata": {
    "vscode": {
     "languageId": "ruby"
    }
   },
   "outputs": [
    {
     "name": "stdout",
     "output_type": "stream",
     "text": [
      "Total Audio Files: 1064\n",
      "Total Segments 1\n",
      "నేను నాలుగు ఎనర్జాయర్స్ [energiors] ఆల్కలీన్ [alkaline] బ్యాటరీలు ఆర్డర్ [order] చేయాలి దాన్ని షాపింగ్ [shopping] లిస్టుకి చేర్చుతావా\n"
     ]
    },
    {
     "data": {
      "text/html": [
       "\n",
       "                <audio  controls=\"controls\" autoplay=\"autoplay\">\n",
       "                    <source src=\"data:audio/wav;base64,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\" type=\"audio/wav\" />\n",
       "                    Your browser does not support the audio element.\n",
       "                </audio>\n",
       "              "
      ],
      "text/plain": [
       "<IPython.lib.display.Audio object>"
      ]
     },
     "metadata": {},
     "output_type": "display_data"
    },
    {
     "name": "stdout",
     "output_type": "stream",
     "text": [
      "{'lang': 'te', 'scenario': 'Read', 'task_name': 'Bigbasket Commands', 'gender': 'Male', 'age_group': '60+', 'area': 'Rural', 'district': 'West Godavari', 'state': 'Andhra Pradesh'}\n"
     ]
    }
   ],
   "source": [
    "parquet = 1\n",
    "file = 2\n",
    "print(\"Total Audio Files:\", maxFileCount(parquet))\n",
    "print(\"Total Segments\", len(getFile(parquet, file)))\n",
    "\n",
    "for segment in getFile(parquet, file):\n",
    "    print(segment)\n",
    "    play(getAudio(parquet, file, getFile(parquet, file).index(segment)+1))\n",
    "    print(getMetadata(parquet, file, getFile(parquet, file).index(segment)+1))"
   ]
  }
 ],
 "metadata": {
  "kernelspec": {
   "display_name": "Python 3",
   "language": "python",
   "name": "python3"
  },
  "language_info": {
   "codemirror_mode": {
    "name": "ipython",
    "version": 3
   },
   "file_extension": ".py",
   "mimetype": "text/x-python",
   "name": "python",
   "nbconvert_exporter": "python",
   "pygments_lexer": "ipython3",
   "version": "3.9.6"
  }
 },
 "nbformat": 4,
 "nbformat_minor": 5
}
